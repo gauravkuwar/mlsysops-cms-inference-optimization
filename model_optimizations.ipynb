{
 "cells": [
  {
   "cell_type": "markdown",
   "id": "d3dd957d",
   "metadata": {
    "id": "d3dd957d",
    "vscode": {
     "languageId": "shellscript"
    }
   },
   "source": [
    "# Inference Optimizations\n",
    "Note: used google collab for GPU because of time constraint. \\\n",
    "In real pipeline this would be done after training on GPU instance."
   ]
  },
  {
   "cell_type": "markdown",
   "id": "kj8Izgcb689h",
   "metadata": {
    "id": "kj8Izgcb689h"
   },
   "source": [
    "## Pre-process Data"
   ]
  },
  {
   "cell_type": "code",
   "execution_count": 1,
   "id": "2YjN67g88YE-",
   "metadata": {
    "colab": {
     "base_uri": "https://localhost:8080/",
     "height": 463
    },
    "id": "2YjN67g88YE-",
    "outputId": "dce9be3b-2507-4c77-e56b-b97adad6439f"
   },
   "outputs": [
    {
     "data": {
      "text/html": [
       "\n",
       "     <input type=\"file\" id=\"files-7deb441d-142a-48dc-ac1b-7b114edc06cd\" name=\"files[]\" multiple disabled\n",
       "        style=\"border:none\" />\n",
       "     <output id=\"result-7deb441d-142a-48dc-ac1b-7b114edc06cd\">\n",
       "      Upload widget is only available when the cell has been executed in the\n",
       "      current browser session. Please rerun this cell to enable.\n",
       "      </output>\n",
       "      <script>// Copyright 2017 Google LLC\n",
       "//\n",
       "// Licensed under the Apache License, Version 2.0 (the \"License\");\n",
       "// you may not use this file except in compliance with the License.\n",
       "// You may obtain a copy of the License at\n",
       "//\n",
       "//      http://www.apache.org/licenses/LICENSE-2.0\n",
       "//\n",
       "// Unless required by applicable law or agreed to in writing, software\n",
       "// distributed under the License is distributed on an \"AS IS\" BASIS,\n",
       "// WITHOUT WARRANTIES OR CONDITIONS OF ANY KIND, either express or implied.\n",
       "// See the License for the specific language governing permissions and\n",
       "// limitations under the License.\n",
       "\n",
       "/**\n",
       " * @fileoverview Helpers for google.colab Python module.\n",
       " */\n",
       "(function(scope) {\n",
       "function span(text, styleAttributes = {}) {\n",
       "  const element = document.createElement('span');\n",
       "  element.textContent = text;\n",
       "  for (const key of Object.keys(styleAttributes)) {\n",
       "    element.style[key] = styleAttributes[key];\n",
       "  }\n",
       "  return element;\n",
       "}\n",
       "\n",
       "// Max number of bytes which will be uploaded at a time.\n",
       "const MAX_PAYLOAD_SIZE = 100 * 1024;\n",
       "\n",
       "function _uploadFiles(inputId, outputId) {\n",
       "  const steps = uploadFilesStep(inputId, outputId);\n",
       "  const outputElement = document.getElementById(outputId);\n",
       "  // Cache steps on the outputElement to make it available for the next call\n",
       "  // to uploadFilesContinue from Python.\n",
       "  outputElement.steps = steps;\n",
       "\n",
       "  return _uploadFilesContinue(outputId);\n",
       "}\n",
       "\n",
       "// This is roughly an async generator (not supported in the browser yet),\n",
       "// where there are multiple asynchronous steps and the Python side is going\n",
       "// to poll for completion of each step.\n",
       "// This uses a Promise to block the python side on completion of each step,\n",
       "// then passes the result of the previous step as the input to the next step.\n",
       "function _uploadFilesContinue(outputId) {\n",
       "  const outputElement = document.getElementById(outputId);\n",
       "  const steps = outputElement.steps;\n",
       "\n",
       "  const next = steps.next(outputElement.lastPromiseValue);\n",
       "  return Promise.resolve(next.value.promise).then((value) => {\n",
       "    // Cache the last promise value to make it available to the next\n",
       "    // step of the generator.\n",
       "    outputElement.lastPromiseValue = value;\n",
       "    return next.value.response;\n",
       "  });\n",
       "}\n",
       "\n",
       "/**\n",
       " * Generator function which is called between each async step of the upload\n",
       " * process.\n",
       " * @param {string} inputId Element ID of the input file picker element.\n",
       " * @param {string} outputId Element ID of the output display.\n",
       " * @return {!Iterable<!Object>} Iterable of next steps.\n",
       " */\n",
       "function* uploadFilesStep(inputId, outputId) {\n",
       "  const inputElement = document.getElementById(inputId);\n",
       "  inputElement.disabled = false;\n",
       "\n",
       "  const outputElement = document.getElementById(outputId);\n",
       "  outputElement.innerHTML = '';\n",
       "\n",
       "  const pickedPromise = new Promise((resolve) => {\n",
       "    inputElement.addEventListener('change', (e) => {\n",
       "      resolve(e.target.files);\n",
       "    });\n",
       "  });\n",
       "\n",
       "  const cancel = document.createElement('button');\n",
       "  inputElement.parentElement.appendChild(cancel);\n",
       "  cancel.textContent = 'Cancel upload';\n",
       "  const cancelPromise = new Promise((resolve) => {\n",
       "    cancel.onclick = () => {\n",
       "      resolve(null);\n",
       "    };\n",
       "  });\n",
       "\n",
       "  // Wait for the user to pick the files.\n",
       "  const files = yield {\n",
       "    promise: Promise.race([pickedPromise, cancelPromise]),\n",
       "    response: {\n",
       "      action: 'starting',\n",
       "    }\n",
       "  };\n",
       "\n",
       "  cancel.remove();\n",
       "\n",
       "  // Disable the input element since further picks are not allowed.\n",
       "  inputElement.disabled = true;\n",
       "\n",
       "  if (!files) {\n",
       "    return {\n",
       "      response: {\n",
       "        action: 'complete',\n",
       "      }\n",
       "    };\n",
       "  }\n",
       "\n",
       "  for (const file of files) {\n",
       "    const li = document.createElement('li');\n",
       "    li.append(span(file.name, {fontWeight: 'bold'}));\n",
       "    li.append(span(\n",
       "        `(${file.type || 'n/a'}) - ${file.size} bytes, ` +\n",
       "        `last modified: ${\n",
       "            file.lastModifiedDate ? file.lastModifiedDate.toLocaleDateString() :\n",
       "                                    'n/a'} - `));\n",
       "    const percent = span('0% done');\n",
       "    li.appendChild(percent);\n",
       "\n",
       "    outputElement.appendChild(li);\n",
       "\n",
       "    const fileDataPromise = new Promise((resolve) => {\n",
       "      const reader = new FileReader();\n",
       "      reader.onload = (e) => {\n",
       "        resolve(e.target.result);\n",
       "      };\n",
       "      reader.readAsArrayBuffer(file);\n",
       "    });\n",
       "    // Wait for the data to be ready.\n",
       "    let fileData = yield {\n",
       "      promise: fileDataPromise,\n",
       "      response: {\n",
       "        action: 'continue',\n",
       "      }\n",
       "    };\n",
       "\n",
       "    // Use a chunked sending to avoid message size limits. See b/62115660.\n",
       "    let position = 0;\n",
       "    do {\n",
       "      const length = Math.min(fileData.byteLength - position, MAX_PAYLOAD_SIZE);\n",
       "      const chunk = new Uint8Array(fileData, position, length);\n",
       "      position += length;\n",
       "\n",
       "      const base64 = btoa(String.fromCharCode.apply(null, chunk));\n",
       "      yield {\n",
       "        response: {\n",
       "          action: 'append',\n",
       "          file: file.name,\n",
       "          data: base64,\n",
       "        },\n",
       "      };\n",
       "\n",
       "      let percentDone = fileData.byteLength === 0 ?\n",
       "          100 :\n",
       "          Math.round((position / fileData.byteLength) * 100);\n",
       "      percent.textContent = `${percentDone}% done`;\n",
       "\n",
       "    } while (position < fileData.byteLength);\n",
       "  }\n",
       "\n",
       "  // All done.\n",
       "  yield {\n",
       "    response: {\n",
       "      action: 'complete',\n",
       "    }\n",
       "  };\n",
       "}\n",
       "\n",
       "scope.google = scope.google || {};\n",
       "scope.google.colab = scope.google.colab || {};\n",
       "scope.google.colab._files = {\n",
       "  _uploadFiles,\n",
       "  _uploadFilesContinue,\n",
       "};\n",
       "})(self);\n",
       "</script> "
      ],
      "text/plain": [
       "<IPython.core.display.HTML object>"
      ]
     },
     "metadata": {},
     "output_type": "display_data"
    },
    {
     "name": "stdout",
     "output_type": "stream",
     "text": [
      "Saving kaggle.json to kaggle.json\n",
      "ref                                                          title                                                      size  lastUpdated                 downloadCount  voteCount  usabilityRating  \n",
      "-----------------------------------------------------------  --------------------------------------------------  -----------  --------------------------  -------------  ---------  ---------------  \n",
      "jayaantanaath/student-habits-vs-academic-performance         Student Habits vs Academic Performance                    19512  2025-04-12 10:49:08.663000          23391        402  1.0              \n",
      "adilshamim8/cost-of-international-education                  Cost of International Education                           18950  2025-05-07 15:41:53.213000           4695         79  1.0              \n",
      "adilshamim8/social-media-addiction-vs-relationships          Students' Social Media Addiction                           7851  2025-05-10 14:38:02.713000           2176         35  1.0              \n",
      "fatemehmohammadinia/heart-attack-dataset-tarik-a-rashid      Heart Attack Dataset                                      16250  2025-04-30 21:58:22.740000           4573         80  1.0              \n",
      "ivankmk/thousand-ml-jobs-in-usa                              Machine Learning Job Postings in the US                 1682058  2025-04-20 16:11:59.347000           4498         99  1.0              \n",
      "michaelmatta0/global-development-indicators-2000-2020        Global Development Full Analysis (2000-2020)            1311638  2025-05-11 16:57:19.013000            791         26  1.0              \n",
      "mahdimashayekhi/fake-news-detection-dataset                  Fake News Detection Dataset                            11735585  2025-04-27 14:52:10.607000           1969         26  1.0              \n",
      "aryan208/financial-transactions-dataset-for-fraud-detection  Financial Transactions Dataset for Fraud Detection    290256858  2025-05-02 09:12:28.203000           1227         29  1.0              \n",
      "umeradnaan/daily-social-media-active-users                   Daily Social Media Active Users                          126814  2025-05-05 02:11:50.873000           1700         23  1.0              \n",
      "khushikyad001/impact-of-screen-time-on-mental-health         Impact of Screen Time on Mental Health                    64873  2025-04-20 18:01:47.570000           2770         43  1.0              \n",
      "dnkumars/cryptocurrency-transaction-analytics-btc-and-eth    Cryptocurrency Transaction Analytics: BTC & ETH         5167978  2025-05-11 15:16:52.107000            409         30  1.0              \n",
      "madhuraatmarambhagat/crop-recommendation-dataset             Crop Recommendation Dataset                               65234  2025-05-08 17:02:09.397000            799         27  1.0              \n",
      "zahidmughal2343/global-cancer-patients-2015-2024             global_cancer_patients_2015_2024                        1261049  2025-04-14 00:05:23.367000           5249         65  1.0              \n",
      "razanaqvi14/real-and-fake-news                               Real & Fake News                                       42975911  2025-04-28 19:46:53.073000           1066         22  1.0              \n",
      "adilshamim8/greenhouse-plant-growth-metrics                  Greenhouse Plant Growth                                 3041046  2025-04-19 07:33:57.787000           1802         28  1.0              \n",
      "wikimedia-foundation/wikipedia-structured-contents           Wikipedia Structured Contents                       25121685657  2025-04-11 07:11:03.397000           2246        287  0.8125           \n",
      "glowstudygram/spotify-songs-and-artists-dataset              Spotify Songs and Artists Dataset | Audio Features        68415  2025-04-27 12:38:36.850000           1873         31  0.8235294        \n",
      "nikolasgegenava/sneakers-classification                      Popular Sneakers Classification                        17981294  2025-05-01 12:00:45.517000           1612         43  1.0              \n",
      "palvinder2006/ola-bike-ride-request                          Ola Bike Ride Request                                    174975  2025-04-28 03:55:33.860000           1100         28  1.0              \n",
      "adilshamim8/predict-students-dropout-and-academic-success    Student Dropout & Success Prediction Dataset             106181  2025-04-23 06:34:06.433000           2526         39  1.0              \n"
     ]
    }
   ],
   "source": [
    "# Upload kaggle.json\n",
    "from google.colab import files\n",
    "files.upload()\n",
    "\n",
    "# Move to the correct path\n",
    "!mkdir -p /content/.kaggle\n",
    "!cp kaggle.json /content/.kaggle/\n",
    "!chmod 600 /content/.kaggle/kaggle.json\n",
    "\n",
    "# Set the environment variable so the API knows where to look\n",
    "import os\n",
    "os.environ['KAGGLE_CONFIG_DIR'] = \"/content/.kaggle\"\n",
    "\n",
    "# Test\n",
    "!kaggle datasets list"
   ]
  },
  {
   "cell_type": "code",
   "execution_count": 2,
   "id": "brjGUd9A74BN",
   "metadata": {
    "id": "brjGUd9A74BN"
   },
   "outputs": [],
   "source": [
    "import argparse\n",
    "import os\n",
    "import pandas as pd\n",
    "from sklearn.model_selection import train_test_split\n",
    "import zipfile\n",
    "\n",
    "# os.environ[\"KAGGLE_CONFIG_DIR\"] = os.path.abspath(\".kaggle\") # Use local .kaggle directory\n",
    "from kaggle.api.kaggle_api_extended import KaggleApi"
   ]
  },
  {
   "cell_type": "code",
   "execution_count": 3,
   "id": "wlF8J4Je72OJ",
   "metadata": {
    "id": "wlF8J4Je72OJ"
   },
   "outputs": [],
   "source": [
    "def download_jigsaw(kaggle_dir):\n",
    "    os.makedirs(kaggle_dir, exist_ok=True)\n",
    "\n",
    "    api = KaggleApi()\n",
    "    api.authenticate()\n",
    "\n",
    "    # Download competition data\n",
    "    api.competition_download_files(\n",
    "        \"jigsaw-unintended-bias-in-toxicity-classification\",\n",
    "        path=kaggle_dir\n",
    "    )\n",
    "\n",
    "    # Unzip\n",
    "    zip_path = os.path.join(kaggle_dir, \"jigsaw-unintended-bias-in-toxicity-classification.zip\")\n",
    "    with zipfile.ZipFile(zip_path, \"r\") as zip_ref:\n",
    "        zip_ref.extractall(kaggle_dir)\n",
    "\n",
    "    print(\"Downloaded and extracted Jigsaw dataset.\")\n",
    "\n",
    "\n",
    "def preprocess(kaggle_dir, output_dir, split_ratio=0.2):\n",
    "    # Create output directory if missing\n",
    "    os.makedirs(output_dir, exist_ok=True)\n",
    "\n",
    "    # Ensure input file exists, create parent dir if needed (just in case)\n",
    "    os.makedirs(kaggle_dir, exist_ok=True)\n",
    "    input_path = os.path.join(kaggle_dir, \"train.csv\")\n",
    "    if not os.path.exists(input_path):\n",
    "        raise FileNotFoundError(f\"train.csv not found in {kaggle_dir}\")\n",
    "\n",
    "    df = pd.read_csv(input_path).dropna(subset=[\"comment_text\"])\n",
    "\n",
    "    # Keep only the needed columns\n",
    "    df = df[[\"comment_text\", \"target\"]]\n",
    "\n",
    "    # Binarize target (optional: uncomment if needed)\n",
    "    # df[\"target\"] = (df[\"target\"] >= 0.5).astype(int)\n",
    "\n",
    "    # Split\n",
    "    train_df, val_df = train_test_split(df, test_size=split_ratio, random_state=42)\n",
    "\n",
    "    os.makedirs(output_dir, exist_ok=True)\n",
    "    train_df.to_csv(os.path.join(output_dir, \"train.csv\"), index=False)\n",
    "    val_df.to_csv(os.path.join(output_dir, \"val.csv\"), index=False)\n",
    "\n",
    "    print(f\"Saved {len(train_df)} training and {len(val_df)} validation samples to {output_dir}\")"
   ]
  },
  {
   "cell_type": "code",
   "execution_count": 4,
   "id": "s83yLZkY784G",
   "metadata": {
    "colab": {
     "base_uri": "https://localhost:8080/"
    },
    "id": "s83yLZkY784G",
    "outputId": "b963bf02-0338-4275-d10c-fd3156d0be29"
   },
   "outputs": [
    {
     "name": "stdout",
     "output_type": "stream",
     "text": [
      "Downloaded and extracted Jigsaw dataset.\n",
      "Saved 1443896 training and 360975 validation samples to data/jigsaw/processed/\n"
     ]
    }
   ],
   "source": [
    "kaggle_dir = \"data/jigsaw/raw/\"\n",
    "output_dir = \"data/jigsaw/processed/\"\n",
    "val_split = 0.2\n",
    "\n",
    "download_jigsaw(kaggle_dir)\n",
    "preprocess(kaggle_dir, output_dir, val_split)"
   ]
  },
  {
   "cell_type": "markdown",
   "id": "W6WLW_2G7z2B",
   "metadata": {
    "id": "W6WLW_2G7z2B"
   },
   "source": [
    "## Training"
   ]
  },
  {
   "cell_type": "code",
   "execution_count": 7,
   "id": "zGBzK-M26-VF",
   "metadata": {
    "id": "zGBzK-M26-VF"
   },
   "outputs": [],
   "source": [
    "import os\n",
    "import time\n",
    "import argparse\n",
    "import torch\n",
    "import torch.nn as nn\n",
    "import torch.optim as optim\n",
    "import pandas as pd\n",
    "from torch.utils.data import DataLoader, Dataset\n",
    "from transformers import DistilBertTokenizer, DistilBertForSequenceClassification"
   ]
  },
  {
   "cell_type": "code",
   "execution_count": 8,
   "id": "68nz89tK6Kmo",
   "metadata": {
    "id": "68nz89tK6Kmo"
   },
   "outputs": [],
   "source": [
    "config = {\n",
    "    \"initial_epochs\": 2,\n",
    "    \"total_epochs\": 1,\n",
    "    \"patience\": 2,\n",
    "    \"batch_size\": 128,\n",
    "    \"lr\": 2e-5,\n",
    "    \"fine_tune_lr\": 1e-5,\n",
    "    \"max_len\": 128,\n",
    "    \"dropout_probability\": 0.3,\n",
    "    \"model_name\": \"distilbert-base-uncased\"\n",
    "}"
   ]
  },
  {
   "cell_type": "code",
   "execution_count": 9,
   "id": "KSfh49tW6unS",
   "metadata": {
    "id": "KSfh49tW6unS"
   },
   "outputs": [],
   "source": [
    "# ---------------------------\n",
    "# Dataset\n",
    "# ---------------------------\n",
    "class JigsawDataset(Dataset):\n",
    "    def __init__(self, df, tokenizer, max_len):\n",
    "        self.texts = df[\"comment_text\"].tolist()\n",
    "        self.labels = (df[\"target\"] >= 0.5).astype(int).tolist()\n",
    "        self.tokenizer = tokenizer\n",
    "        self.max_len = max_len\n",
    "\n",
    "    def __len__(self):\n",
    "        return len(self.texts)\n",
    "\n",
    "    def __getitem__(self, idx):\n",
    "        inputs = self.tokenizer(\n",
    "            self.texts[idx],\n",
    "            truncation=True,\n",
    "            padding=\"max_length\",\n",
    "            max_length=self.max_len,\n",
    "            return_tensors=\"pt\"\n",
    "        )\n",
    "        return {\n",
    "            \"input_ids\": inputs[\"input_ids\"].squeeze(0),\n",
    "            \"attention_mask\": inputs[\"attention_mask\"].squeeze(0),\n",
    "            \"labels\": torch.tensor(self.labels[idx], dtype=torch.long)\n",
    "        }"
   ]
  },
  {
   "cell_type": "code",
   "execution_count": 8,
   "id": "QJrmvVAy6ys6",
   "metadata": {
    "id": "QJrmvVAy6ys6"
   },
   "outputs": [],
   "source": [
    "# ---------------------------\n",
    "# Training + Evaluation Functions\n",
    "# ---------------------------\n",
    "from tqdm import tqdm\n",
    "\n",
    "def train_epoch(model, loader, criterion, optimizer, device, portion=0.01):\n",
    "    model.train()\n",
    "    total_loss, correct, total = 0, 0, 0\n",
    "\n",
    "    num_batches = int(portion * len(loader)) # Doing part of the training because my part is inference and monitoring\n",
    "    print(f\"Training for {num_batches} batches\")\n",
    "\n",
    "    for i, batch in enumerate(tqdm(loader, desc=\"Training\", leave=False)):\n",
    "        if i >= num_batches:\n",
    "            break\n",
    "\n",
    "        optimizer.zero_grad()\n",
    "        batch = {k: v.to(device) for k, v in batch.items()}\n",
    "        outputs = model(**batch)\n",
    "        loss = outputs.loss\n",
    "        loss.backward()\n",
    "        optimizer.step()\n",
    "\n",
    "        total_loss += loss.item()\n",
    "        preds = outputs.logits.argmax(dim=1)\n",
    "        correct += (preds == batch[\"labels\"]).sum().item()\n",
    "        total += batch[\"labels\"].size(0)\n",
    "\n",
    "    avg_loss = total_loss / num_batches\n",
    "    avg_acc = correct / total\n",
    "    print(f\"Partial Epoch Summary - Avg Loss: {avg_loss:.4f}, Avg Accuracy: {avg_acc:.4f}\\n\")\n",
    "\n",
    "    return avg_loss, avg_acc\n",
    "\n",
    "def evaluate(model, loader, criterion, device, portion=0.01):\n",
    "    model.eval()\n",
    "    total_loss, correct, total = 0, 0, 0\n",
    "\n",
    "    num_batches = int(portion * len(loader))\n",
    "    print(f\"Evaluating for {num_batches} batches\")\n",
    "\n",
    "    with torch.no_grad():\n",
    "        for i, batch in enumerate(tqdm(loader, desc=\"Evaluating\", leave=False)):\n",
    "            if i >= num_batches:\n",
    "                break\n",
    "\n",
    "            batch = {k: v.to(device) for k, v in batch.items()}\n",
    "            outputs = model(**batch)\n",
    "            loss = outputs.loss\n",
    "\n",
    "            total_loss += loss.item()\n",
    "            preds = outputs.logits.argmax(dim=1)\n",
    "            correct += (preds == batch[\"labels\"]).sum().item()\n",
    "            total += batch[\"labels\"].size(0)\n",
    "\n",
    "    avg_loss = total_loss / num_batches\n",
    "    avg_acc = correct / total\n",
    "    print(f\"Eval Summary - Avg Loss: {avg_loss:.4f}, Accuracy: {avg_acc:.4f}\\n\")\n",
    "\n",
    "    return avg_loss, avg_acc"
   ]
  },
  {
   "cell_type": "code",
   "execution_count": 9,
   "id": "MWPCEBp17Yk0",
   "metadata": {
    "id": "MWPCEBp17Yk0"
   },
   "outputs": [],
   "source": [
    "# ---------------------------\n",
    "# Main Training Pipeline\n",
    "# ---------------------------\n",
    "def main(args):\n",
    "    # made to run in command line originally\n",
    "    # parser = argparse.ArgumentParser()\n",
    "    # parser.add_argument(\"--data-dir\", type=str, required=True, help=\"Directory with train.csv and val.csv\")\n",
    "    # parser.add_argument(\"--save-path\", type=str, required=True, help=\"Path to save the trained model\")\n",
    "    # parser.add_argument(\"--dry-run\", action=\"store_true\", help=\"Run a quick test on a small sample\")\n",
    "    # args = parser.parse_args()\n",
    "\n",
    "    os.makedirs(os.path.dirname(args.save_path), exist_ok=True)\n",
    "    device = torch.device(\"cuda\" if torch.cuda.is_available() else (\"mps\" if torch.backends.mps.is_available() else \"cpu\"))\n",
    "    print(f\"Using device: {device}\")\n",
    "\n",
    "    tokenizer = DistilBertTokenizer.from_pretrained(config[\"model_name\"])\n",
    "    train_df = pd.read_csv(os.path.join(args.data_dir, \"train.csv\"))\n",
    "    if args.dry_run:\n",
    "        train_df = train_df.sample(n=32, random_state=42)\n",
    "    val_df = pd.read_csv(os.path.join(args.data_dir, \"val.csv\"))\n",
    "    if args.dry_run:\n",
    "        val_df = val_df.sample(n=32, random_state=42)\n",
    "\n",
    "    train_loader = DataLoader(JigsawDataset(train_df, tokenizer, config[\"max_len\"]),\n",
    "                              batch_size=config[\"batch_size\"], shuffle=True)\n",
    "    val_loader = DataLoader(JigsawDataset(val_df, tokenizer, config[\"max_len\"]),\n",
    "                            batch_size=config[\"batch_size\"])\n",
    "\n",
    "    model = DistilBertForSequenceClassification.from_pretrained(config[\"model_name\"])\n",
    "    model.to(device)\n",
    "\n",
    "    criterion = nn.CrossEntropyLoss()\n",
    "    optimizer = optim.Adam(model.parameters(), lr=config[\"lr\"])\n",
    "\n",
    "    best_val_loss = float(\"inf\")\n",
    "    patience_counter = 0\n",
    "\n",
    "    for epoch in range(config[\"total_epochs\"]):\n",
    "        start = time.time()\n",
    "\n",
    "        train_loss, train_acc = train_epoch(model, train_loader, criterion, optimizer, device)\n",
    "        val_loss, val_acc = evaluate(model, val_loader, criterion, device)\n",
    "\n",
    "        print(f\"Epoch {epoch+1}: Train Loss={train_loss:.4f} Acc={train_acc:.4f} | Val Loss={val_loss:.4f} Acc={val_acc:.4f} | Time={time.time() - start:.2f}s\")\n",
    "\n",
    "        if val_loss < best_val_loss:\n",
    "            best_val_loss = val_loss\n",
    "            torch.save(model.state_dict(), args.save_path)\n",
    "            patience_counter = 0\n",
    "            print(\"  Validation loss improved. Model saved.\")\n",
    "        else:\n",
    "            patience_counter += 1\n",
    "            print(f\"  No improvement. Patience: {patience_counter}\")\n",
    "            if patience_counter >= config[\"patience\"]:\n",
    "                print(\"  Early stopping.\")\n",
    "                break"
   ]
  },
  {
   "cell_type": "code",
   "execution_count": 10,
   "id": "v1sjxCQx-edf",
   "metadata": {
    "colab": {
     "base_uri": "https://localhost:8080/",
     "height": 520,
     "referenced_widgets": [
      "a8b4bc5064ca44e5b574d8c0eb815258",
      "9b1d131a8a924326a24a7779e37ab2c0",
      "552808e00445482fa25dd65ff6195466",
      "d91cef8296cb40028c1d65d4287dbe48",
      "48cb8e36b85948f4ab4ea3058d7dd83c",
      "c3059fd8ffac4bad89d43b113f06e215",
      "4791f89c223b4ddc8cc1f26a981548ec",
      "57d46d264e72446fa4729886ad7a88eb",
      "bc11b20cb2a8495cac4277a6c926648f",
      "db54ed068fcf464ebcf87b70fe1fe4d6",
      "6a909ffe347a4802b0a9fc06c4e2ac48",
      "5b21567ffe254d18be83e9d6f7b3daf8",
      "ba91cbd81a2644018e57f5f20579a801",
      "2b3df0119d8141e4b3056372078878c0",
      "c2142ccef0b2416daea74ea7f8fa427b",
      "ac6243d0c50d4bfea68c046023b187d7",
      "0f001922f43945aa83206f58ecd88f61",
      "d7829b14f1ae4713b259ec0d65125ca6",
      "cf96061926634408a261ec9a6179310c",
      "75d3847c087248fe9aee44a5452333cd",
      "f38aea8065a248a39b267e1407a1e1dc",
      "6af0fc9b6b38474aa0b1e4b4db82cb8b",
      "d840043e798e4b6584413a175b39b104",
      "6c4e42f38f03418c8f4edcf71aeb6d1c",
      "cc6de4e7c0d046f8b562968e859a5386",
      "b2c66d5a942b439d959cc7ee86fafd14",
      "3bc1be7acef54af0baefc6ce2bd71198",
      "2f6c0dee16694cd794158530feaa7645",
      "bf020a77ece94878ab91527a7cb5c3e7",
      "257862580509429db0a597daa1c509d5",
      "41bf3f1452264fedaf4acc619d15aa56",
      "f00460674c014065bd851c335f7affdf",
      "9506f5f3307c41d78def18a4e99f3d3f",
      "2e96ae2ef1fc41c087985fc44db1f03a",
      "51310bb0ae2b47ab936b913479d0ab79",
      "2f5239aa309a4c42a6d169626b9f5606",
      "5789692fe5e748eba6d779b8e1c096db",
      "d446770c77104531b801feee3a0180df",
      "14e20ddd683a41ac807e86d21233958c",
      "7ea2bde798bb4e61b2cb7707154767ba",
      "9b9499cbc8f941dbb338ed41d850d759",
      "f4a86af5669b4fee947da12780c31f57",
      "0d73701e68764559bcba8a76cbd50ded",
      "9b48d0f1174047648a6255f57f8fa611",
      "e9092286bd814786b36f10ae258cb21e",
      "4f05f093f70d4f82958ea95943868ea2",
      "03e784427660462eba19a57b98183b3b",
      "38301cc877324982be7ad8949bb3cbbb",
      "083c6078f1ea4852a7591308040982d0",
      "498d5115765141b8a25a1d8555c8f7cb",
      "4b09b712f06442a8920c416c4c9a2e6a",
      "641c615cc23e46a0989b7226eece3662",
      "ee7a9c035a9142178b9c2a16bdf29110",
      "a543b2148cc34d2b9c54fbe5d012e28a",
      "883c7452c491455589f9182b78ca4d28"
     ]
    },
    "id": "v1sjxCQx-edf",
    "outputId": "aaec3e5b-c9a5-4455-d11d-6826d04d9caa"
   },
   "outputs": [
    {
     "name": "stdout",
     "output_type": "stream",
     "text": [
      "Using device: cuda\n"
     ]
    },
    {
     "name": "stderr",
     "output_type": "stream",
     "text": [
      "/usr/local/lib/python3.11/dist-packages/huggingface_hub/utils/_auth.py:94: UserWarning: \n",
      "The secret `HF_TOKEN` does not exist in your Colab secrets.\n",
      "To authenticate with the Hugging Face Hub, create a token in your settings tab (https://huggingface.co/settings/tokens), set it as secret in your Google Colab and restart your session.\n",
      "You will be able to reuse this secret in all of your notebooks.\n",
      "Please note that authentication is recommended but still optional to access public models or datasets.\n",
      "  warnings.warn(\n"
     ]
    },
    {
     "data": {
      "application/vnd.jupyter.widget-view+json": {
       "model_id": "a8b4bc5064ca44e5b574d8c0eb815258",
       "version_major": 2,
       "version_minor": 0
      },
      "text/plain": [
       "tokenizer_config.json:   0%|          | 0.00/48.0 [00:00<?, ?B/s]"
      ]
     },
     "metadata": {},
     "output_type": "display_data"
    },
    {
     "data": {
      "application/vnd.jupyter.widget-view+json": {
       "model_id": "5b21567ffe254d18be83e9d6f7b3daf8",
       "version_major": 2,
       "version_minor": 0
      },
      "text/plain": [
       "vocab.txt:   0%|          | 0.00/232k [00:00<?, ?B/s]"
      ]
     },
     "metadata": {},
     "output_type": "display_data"
    },
    {
     "data": {
      "application/vnd.jupyter.widget-view+json": {
       "model_id": "d840043e798e4b6584413a175b39b104",
       "version_major": 2,
       "version_minor": 0
      },
      "text/plain": [
       "tokenizer.json:   0%|          | 0.00/466k [00:00<?, ?B/s]"
      ]
     },
     "metadata": {},
     "output_type": "display_data"
    },
    {
     "data": {
      "application/vnd.jupyter.widget-view+json": {
       "model_id": "2e96ae2ef1fc41c087985fc44db1f03a",
       "version_major": 2,
       "version_minor": 0
      },
      "text/plain": [
       "config.json:   0%|          | 0.00/483 [00:00<?, ?B/s]"
      ]
     },
     "metadata": {},
     "output_type": "display_data"
    },
    {
     "name": "stderr",
     "output_type": "stream",
     "text": [
      "Xet Storage is enabled for this repo, but the 'hf_xet' package is not installed. Falling back to regular HTTP download. For better performance, install the package with: `pip install huggingface_hub[hf_xet]` or `pip install hf_xet`\n",
      "WARNING:huggingface_hub.file_download:Xet Storage is enabled for this repo, but the 'hf_xet' package is not installed. Falling back to regular HTTP download. For better performance, install the package with: `pip install huggingface_hub[hf_xet]` or `pip install hf_xet`\n"
     ]
    },
    {
     "data": {
      "application/vnd.jupyter.widget-view+json": {
       "model_id": "e9092286bd814786b36f10ae258cb21e",
       "version_major": 2,
       "version_minor": 0
      },
      "text/plain": [
       "model.safetensors:   0%|          | 0.00/268M [00:00<?, ?B/s]"
      ]
     },
     "metadata": {},
     "output_type": "display_data"
    },
    {
     "name": "stderr",
     "output_type": "stream",
     "text": [
      "Some weights of DistilBertForSequenceClassification were not initialized from the model checkpoint at distilbert-base-uncased and are newly initialized: ['classifier.bias', 'classifier.weight', 'pre_classifier.bias', 'pre_classifier.weight']\n",
      "You should probably TRAIN this model on a down-stream task to be able to use it for predictions and inference.\n"
     ]
    },
    {
     "name": "stdout",
     "output_type": "stream",
     "text": [
      "Training for 112 batches\n"
     ]
    },
    {
     "name": "stderr",
     "output_type": "stream",
     "text": []
    },
    {
     "name": "stdout",
     "output_type": "stream",
     "text": [
      "Partial Epoch Summary - Avg Loss: 0.2503, Avg Accuracy: 0.9166\n",
      "\n",
      "Evaluating for 28 batches\n"
     ]
    },
    {
     "name": "stderr",
     "output_type": "stream",
     "text": []
    },
    {
     "name": "stdout",
     "output_type": "stream",
     "text": [
      "Eval Summary - Avg Loss: 0.1531, Accuracy: 0.9481\n",
      "\n",
      "Epoch 1: Train Loss=0.2503 Acc=0.9166 | Val Loss=0.1531 Acc=0.9481 | Time=53.61s\n",
      "  Validation loss improved. Model saved.\n"
     ]
    }
   ],
   "source": [
    "# simulate arguments\n",
    "class args:\n",
    "  data_dir = \"data/jigsaw/processed/\"\n",
    "  save_path = \"models/model.pth\"\n",
    "  dry_run = False\n",
    "\n",
    "main(args)"
   ]
  },
  {
   "cell_type": "markdown",
   "id": "k8e-A7-c9oC_",
   "metadata": {
    "id": "k8e-A7-c9oC_"
   },
   "source": [
    "## Inference Optimization"
   ]
  },
  {
   "cell_type": "code",
   "execution_count": 11,
   "id": "qkzLnieUCItb",
   "metadata": {
    "colab": {
     "base_uri": "https://localhost:8080/"
    },
    "id": "qkzLnieUCItb",
    "outputId": "c6145af9-6714-4dc5-bd05-0f73f028078d"
   },
   "outputs": [
    {
     "name": "stdout",
     "output_type": "stream",
     "text": [
      "Collecting torchinfo\n",
      "  Downloading torchinfo-1.8.0-py3-none-any.whl.metadata (21 kB)\n",
      "Downloading torchinfo-1.8.0-py3-none-any.whl (23 kB)\n",
      "Installing collected packages: torchinfo\n",
      "Successfully installed torchinfo-1.8.0\n"
     ]
    }
   ],
   "source": [
    "!pip install torchinfo"
   ]
  },
  {
   "cell_type": "code",
   "execution_count": 10,
   "id": "JcGYc7QZ9o4F",
   "metadata": {
    "id": "JcGYc7QZ9o4F"
   },
   "outputs": [],
   "source": [
    "import os\n",
    "import torch\n",
    "from torch.utils.data import DataLoader, Dataset\n",
    "from transformers import DistilBertTokenizer, DistilBertForSequenceClassification\n",
    "from torchinfo import summary\n",
    "import time\n",
    "import numpy as np\n",
    "import pandas as pd"
   ]
  },
  {
   "cell_type": "code",
   "execution_count": 11,
   "id": "NwXGzxLoHIss",
   "metadata": {
    "id": "NwXGzxLoHIss"
   },
   "outputs": [],
   "source": [
    "class JigsawDataset(Dataset):\n",
    "    def __init__(self, df, tokenizer, max_len):\n",
    "        self.texts = df[\"comment_text\"].tolist()\n",
    "        self.labels = (df[\"target\"] >= 0.5).astype(int).tolist()\n",
    "        self.tokenizer = tokenizer\n",
    "        self.max_len = max_len\n",
    "\n",
    "    def __len__(self):\n",
    "        return len(self.texts)\n",
    "\n",
    "    def __getitem__(self, idx):\n",
    "        inputs = self.tokenizer(\n",
    "            self.texts[idx],\n",
    "            truncation=True,\n",
    "            padding=\"max_length\",\n",
    "            max_length=self.max_len,\n",
    "            return_tensors=\"pt\"\n",
    "        )\n",
    "        return {\n",
    "            \"input_ids\": inputs[\"input_ids\"].squeeze(0),\n",
    "            \"attention_mask\": inputs[\"attention_mask\"].squeeze(0),\n",
    "            \"labels\": torch.tensor(self.labels[idx], dtype=torch.long)\n",
    "        }"
   ]
  },
  {
   "cell_type": "code",
   "execution_count": 12,
   "id": "fUFo_RINHMzx",
   "metadata": {
    "id": "fUFo_RINHMzx"
   },
   "outputs": [],
   "source": [
    "batch_size = 128\n",
    "max_len = 128\n",
    "model_name = \"distilbert-base-uncased\"\n",
    "dataset_dir = os.getenv(\"DATA_DIR\", \"data/jigsaw/processed\")\n",
    "model_path = \"models/model.pth\""
   ]
  },
  {
   "cell_type": "code",
   "execution_count": 13,
   "id": "WBvbzUaXHNaU",
   "metadata": {
    "colab": {
     "base_uri": "https://localhost:8080/"
    },
    "id": "WBvbzUaXHNaU",
    "outputId": "0a55c465-1a15-4430-823d-5e712a306126"
   },
   "outputs": [
    {
     "name": "stderr",
     "output_type": "stream",
     "text": [
      "/usr/local/lib/python3.11/dist-packages/huggingface_hub/utils/_auth.py:94: UserWarning: \n",
      "The secret `HF_TOKEN` does not exist in your Colab secrets.\n",
      "To authenticate with the Hugging Face Hub, create a token in your settings tab (https://huggingface.co/settings/tokens), set it as secret in your Google Colab and restart your session.\n",
      "You will be able to reuse this secret in all of your notebooks.\n",
      "Please note that authentication is recommended but still optional to access public models or datasets.\n",
      "  warnings.warn(\n"
     ]
    }
   ],
   "source": [
    "val_df = pd.read_csv(os.path.join(dataset_dir, \"val.csv\"))\n",
    "\n",
    "tokenizer = DistilBertTokenizer.from_pretrained(model_name)\n",
    "test_loader = DataLoader(JigsawDataset(val_df, tokenizer, max_len), batch_size=batch_size, shuffle=False)"
   ]
  },
  {
   "cell_type": "markdown",
   "id": "D_94H62kHLOu",
   "metadata": {
    "id": "D_94H62kHLOu"
   },
   "source": [
    "### Measure inference performance of PyTorch model on CPU"
   ]
  },
  {
   "cell_type": "code",
   "execution_count": 33,
   "id": "twIapCTmvbVJ",
   "metadata": {
    "colab": {
     "base_uri": "https://localhost:8080/"
    },
    "id": "twIapCTmvbVJ",
    "outputId": "51e37ba3-bc0f-4c1c-e11d-6c28b2f9f29b"
   },
   "outputs": [
    {
     "name": "stderr",
     "output_type": "stream",
     "text": [
      "Some weights of DistilBertForSequenceClassification were not initialized from the model checkpoint at distilbert-base-uncased and are newly initialized: ['classifier.bias', 'classifier.weight', 'pre_classifier.bias', 'pre_classifier.weight']\n",
      "You should probably TRAIN this model on a down-stream task to be able to use it for predictions and inference.\n"
     ]
    },
    {
     "data": {
      "text/plain": [
       "================================================================================\n",
       "Layer (type:depth-idx)                                  Param #\n",
       "================================================================================\n",
       "DistilBertForSequenceClassification                     --\n",
       "├─DistilBertModel: 1-1                                  --\n",
       "│    └─Embeddings: 2-1                                  --\n",
       "│    │    └─Embedding: 3-1                              23,440,896\n",
       "│    │    └─Embedding: 3-2                              393,216\n",
       "│    │    └─LayerNorm: 3-3                              1,536\n",
       "│    │    └─Dropout: 3-4                                --\n",
       "│    └─Transformer: 2-2                                 --\n",
       "│    │    └─ModuleList: 3-5                             42,527,232\n",
       "├─Linear: 1-2                                           590,592\n",
       "├─Linear: 1-3                                           1,538\n",
       "├─Dropout: 1-4                                          --\n",
       "================================================================================\n",
       "Total params: 66,955,010\n",
       "Trainable params: 66,955,010\n",
       "Non-trainable params: 0\n",
       "================================================================================"
      ]
     },
     "execution_count": 33,
     "metadata": {},
     "output_type": "execute_result"
    }
   ],
   "source": [
    "device = torch.device(\"cpu\")\n",
    "model = DistilBertForSequenceClassification.from_pretrained(model_name)\n",
    "state_dict = torch.load(model_path, map_location=device)\n",
    "model.load_state_dict(state_dict)\n",
    "model.compile() # Test Compile mode\n",
    "model.eval()\n",
    "summary(model)"
   ]
  },
  {
   "cell_type": "code",
   "execution_count": 34,
   "id": "ts-e_SnJvlqB",
   "metadata": {
    "colab": {
     "base_uri": "https://localhost:8080/"
    },
    "id": "ts-e_SnJvlqB",
    "outputId": "d39298da-0cdd-4377-baf7-1d8c64b27cc3"
   },
   "outputs": [
    {
     "name": "stdout",
     "output_type": "stream",
     "text": [
      "Model Size on Disk: 267.85 MB\n"
     ]
    }
   ],
   "source": [
    "model_size = os.path.getsize(model_path)\n",
    "print(f\"Model Size on Disk: {model_size/ (1e6) :.2f} MB\")"
   ]
  },
  {
   "cell_type": "code",
   "execution_count": 35,
   "id": "jtAMTLh2wGYK",
   "metadata": {
    "id": "jtAMTLh2wGYK"
   },
   "outputs": [],
   "source": [
    "def evaluate_test(model, loader, device, portion=0.01):\n",
    "    model.eval()\n",
    "    correct, total = 0, 0\n",
    "\n",
    "    num_batches = int(portion * len(loader))\n",
    "    print(f\"Evaluating for {num_batches} batches\")\n",
    "\n",
    "    with torch.no_grad():\n",
    "        for i, batch in enumerate(tqdm(loader, desc=\"Evaluating\", leave=False)):\n",
    "            if i >= num_batches:\n",
    "                break\n",
    "\n",
    "            batch = {k: v.to(device) for k, v in batch.items()}\n",
    "            outputs = model(**batch)\n",
    "            loss = outputs.loss\n",
    "\n",
    "            preds = outputs.logits.argmax(dim=1)\n",
    "            correct += (preds == batch[\"labels\"]).sum().item()\n",
    "            total += batch[\"labels\"].size(0)\n",
    "\n",
    "    return correct, total"
   ]
  },
  {
   "cell_type": "code",
   "execution_count": 36,
   "id": "vxzuJtb3voNE",
   "metadata": {
    "colab": {
     "base_uri": "https://localhost:8080/"
    },
    "id": "vxzuJtb3voNE",
    "outputId": "aa168b1a-0b81-4272-ae1f-6184810f8654"
   },
   "outputs": [
    {
     "name": "stdout",
     "output_type": "stream",
     "text": [
      "Evaluating for 28 batches\n"
     ]
    },
    {
     "name": "stderr",
     "output_type": "stream",
     "text": [
      "                                                               "
     ]
    },
    {
     "name": "stdout",
     "output_type": "stream",
     "text": [
      "Accuracy: 94.81% (3398/3584 correct)\n"
     ]
    },
    {
     "name": "stderr",
     "output_type": "stream",
     "text": [
      "\r"
     ]
    }
   ],
   "source": [
    "correct, total = evaluate_test(model, test_loader, device, portion=0.01)\n",
    "accuracy = (correct / total) * 100\n",
    "print(f\"Accuracy: {accuracy:.2f}% ({correct}/{total} correct)\")"
   ]
  },
  {
   "cell_type": "markdown",
   "id": "8hqE-v5Nwpq1",
   "metadata": {
    "id": "8hqE-v5Nwpq1"
   },
   "source": [
    "#### Inference Latency"
   ]
  },
  {
   "cell_type": "code",
   "execution_count": 38,
   "id": "LCGGR__Yvqqj",
   "metadata": {
    "id": "LCGGR__Yvqqj"
   },
   "outputs": [],
   "source": [
    "num_trials = 100\n",
    "\n",
    "# 1) get one batch as a dict\n",
    "batch = next(iter(test_loader))\n",
    "# 2) extract the first example and move to device\n",
    "input_ids      = batch[\"input_ids\"][0].unsqueeze(0).to(device)\n",
    "attention_mask = batch[\"attention_mask\"][0].unsqueeze(0).to(device)\n",
    "\n",
    "model.eval()\n",
    "# 3) warm-up\n",
    "with torch.no_grad():\n",
    "    _ = model(input_ids=input_ids, attention_mask=attention_mask)\n",
    "\n",
    "# 4) timed runs\n",
    "latencies = []\n",
    "for _ in range(num_trials):\n",
    "    start = time.perf_counter()\n",
    "    with torch.no_grad():\n",
    "        _ = model(input_ids=input_ids, attention_mask=attention_mask)\n",
    "    latencies.append(time.perf_counter() - start)"
   ]
  },
  {
   "cell_type": "code",
   "execution_count": 39,
   "id": "HG7xz3erwt3v",
   "metadata": {
    "colab": {
     "base_uri": "https://localhost:8080/"
    },
    "id": "HG7xz3erwt3v",
    "outputId": "bccd329c-d495-48bf-a0ba-a47a8d48d2f3"
   },
   "outputs": [
    {
     "name": "stdout",
     "output_type": "stream",
     "text": [
      "Inference Latency (single sample, median): 31.67 ms\n",
      "Inference Latency (single sample, 95th percentile): 44.55 ms\n",
      "Inference Latency (single sample, 99th percentile): 45.59 ms\n",
      "Inference Throughput (single sample): 29.51 FPS\n"
     ]
    }
   ],
   "source": [
    "print(f\"Inference Latency (single sample, median): {np.percentile(latencies, 50) * 1000:.2f} ms\")\n",
    "print(f\"Inference Latency (single sample, 95th percentile): {np.percentile(latencies, 95) * 1000:.2f} ms\")\n",
    "print(f\"Inference Latency (single sample, 99th percentile): {np.percentile(latencies, 99) * 1000:.2f} ms\")\n",
    "print(f\"Inference Throughput (single sample): {num_trials/np.sum(latencies):.2f} FPS\")"
   ]
  },
  {
   "cell_type": "markdown",
   "id": "D6AS3pLTw1HL",
   "metadata": {
    "id": "D6AS3pLTw1HL"
   },
   "source": [
    "#### Batch throughput"
   ]
  },
  {
   "cell_type": "code",
   "execution_count": 40,
   "id": "dgYn-pGQw1ra",
   "metadata": {
    "id": "dgYn-pGQw1ra"
   },
   "outputs": [],
   "source": [
    "num_batches = 10  # Number of trials\n",
    "\n",
    "# 1) Grab one batch (a dict) and move to device, dropping labels\n",
    "batch = next(iter(test_loader))\n",
    "batch = {k: v.to(device) for k, v in batch.items() if k != \"labels\"}\n",
    "\n",
    "model.eval()\n",
    "\n",
    "# 2) Warm-up\n",
    "with torch.no_grad():\n",
    "    model(**batch)\n",
    "\n",
    "# 3) Timed runs\n",
    "batch_times = []\n",
    "for _ in range(num_batches):\n",
    "    start = time.perf_counter()\n",
    "    with torch.no_grad():\n",
    "        model(**batch)\n",
    "    batch_times.append(time.perf_counter() - start)"
   ]
  },
  {
   "cell_type": "code",
   "execution_count": 41,
   "id": "HgmK33Nxw5Kv",
   "metadata": {
    "colab": {
     "base_uri": "https://localhost:8080/"
    },
    "id": "HgmK33Nxw5Kv",
    "outputId": "2858a716-4c56-436e-882c-116d59a6291d"
   },
   "outputs": [
    {
     "name": "stdout",
     "output_type": "stream",
     "text": [
      "Batch Throughput: 52.82 FPS\n"
     ]
    }
   ],
   "source": [
    "# assume `batch` is the dict you moved to device and `batch_times` is your list of durations\n",
    "batch_size    = batch[\"input_ids\"].shape[0]\n",
    "total_samples = batch_size * num_batches\n",
    "batch_fps     = total_samples / np.sum(batch_times)\n",
    "\n",
    "print(f\"Batch Throughput: {batch_fps:.2f} FPS\")"
   ]
  },
  {
   "cell_type": "markdown",
   "id": "VRN1vHcWw_wK",
   "metadata": {
    "id": "VRN1vHcWw_wK"
   },
   "source": [
    "#### Summary"
   ]
  },
  {
   "cell_type": "code",
   "execution_count": 42,
   "id": "9hpuiP8Ew-QV",
   "metadata": {
    "colab": {
     "base_uri": "https://localhost:8080/"
    },
    "id": "9hpuiP8Ew-QV",
    "outputId": "1c902714-1000-4164-eb7e-24e0d6c729fb"
   },
   "outputs": [
    {
     "name": "stdout",
     "output_type": "stream",
     "text": [
      "Model Size on Disk: 267.85 MB\n",
      "Accuracy: 94.81% (3398/3584 correct)\n",
      "Inference Latency (single sample, median): 31.67 ms\n",
      "Inference Latency (single sample, 95th percentile): 44.55 ms\n",
      "Inference Latency (single sample, 99th percentile): 45.59 ms\n",
      "Inference Throughput (single sample): 29.51 FPS\n",
      "Batch Throughput: 52.82 FPS\n"
     ]
    }
   ],
   "source": [
    "print(f\"Model Size on Disk: {model_size/ (1e6) :.2f} MB\")\n",
    "print(f\"Accuracy: {accuracy:.2f}% ({correct}/{total} correct)\")\n",
    "print(f\"Inference Latency (single sample, median): {np.percentile(latencies, 50) * 1000:.2f} ms\")\n",
    "print(f\"Inference Latency (single sample, 95th percentile): {np.percentile(latencies, 95) * 1000:.2f} ms\")\n",
    "print(f\"Inference Latency (single sample, 99th percentile): {np.percentile(latencies, 99) * 1000:.2f} ms\")\n",
    "print(f\"Inference Throughput (single sample): {num_trials/np.sum(latencies):.2f} FPS\")\n",
    "print(f\"Batch Throughput: {batch_fps:.2f} FPS\")"
   ]
  },
  {
   "cell_type": "markdown",
   "id": "v0a1JSqjxHoC",
   "metadata": {
    "id": "v0a1JSqjxHoC"
   },
   "source": [
    "#### **Eager mode Summary**\n",
    "Model Size on Disk: 267.85 MB \\\n",
    "Accuracy: 94.81% (3398/3584 correct) \\\n",
    "Inference Latency (single sample, median): 35.32 ms \\\n",
    "Inference Latency (single sample, 95th percentile): 55.24 ms \\\n",
    "Inference Latency (single sample, 99th percentile): 56.10 ms \\\n",
    "Inference Throughput (single sample): 26.91 FPS \\\n",
    "Batch Throughput: 40.85 FPS \\\n",
    "\n",
    "#### **Compiled Summary**\n",
    "Model Size on Disk: 267.85 MB \\\n",
    "Accuracy: 94.81% (3398/3584 correct) \\\n",
    "Inference Latency (single sample, median): 31.67 ms \\\n",
    "Inference Latency (single sample, 95th percentile): 44.55 ms \\\n",
    "Inference Latency (single sample, 99th percentile): 45.59 ms \\\n",
    "Inference Throughput (single sample): 29.51 FPS \\\n",
    "Batch Throughput: 52.82 FPS \\"
   ]
  },
  {
   "cell_type": "markdown",
   "id": "WlQQOubWCD-Q",
   "metadata": {
    "id": "WlQQOubWCD-Q"
   },
   "source": [
    "### Measure inference performance of ONNX model on CPU¶"
   ]
  },
  {
   "cell_type": "code",
   "execution_count": 43,
   "id": "Yxl8fQkUG3K7",
   "metadata": {
    "colab": {
     "base_uri": "https://localhost:8080/"
    },
    "id": "Yxl8fQkUG3K7",
    "outputId": "487d5398-9ba8-4d6a-ba01-9dcb94a6442d"
   },
   "outputs": [
    {
     "name": "stdout",
     "output_type": "stream",
     "text": [
      "Collecting onnx\n",
      "  Downloading onnx-1.18.0-cp311-cp311-manylinux_2_17_x86_64.manylinux2014_x86_64.whl.metadata (6.9 kB)\n",
      "Collecting onnxruntime\n",
      "  Downloading onnxruntime-1.22.0-cp311-cp311-manylinux_2_27_x86_64.manylinux_2_28_x86_64.whl.metadata (4.5 kB)\n",
      "Requirement already satisfied: numpy>=1.22 in /usr/local/lib/python3.11/dist-packages (from onnx) (2.0.2)\n",
      "Requirement already satisfied: protobuf>=4.25.1 in /usr/local/lib/python3.11/dist-packages (from onnx) (5.29.4)\n",
      "Requirement already satisfied: typing_extensions>=4.7.1 in /usr/local/lib/python3.11/dist-packages (from onnx) (4.13.2)\n",
      "Collecting coloredlogs (from onnxruntime)\n",
      "  Downloading coloredlogs-15.0.1-py2.py3-none-any.whl.metadata (12 kB)\n",
      "Requirement already satisfied: flatbuffers in /usr/local/lib/python3.11/dist-packages (from onnxruntime) (25.2.10)\n",
      "Requirement already satisfied: packaging in /usr/local/lib/python3.11/dist-packages (from onnxruntime) (24.2)\n",
      "Requirement already satisfied: sympy in /usr/local/lib/python3.11/dist-packages (from onnxruntime) (1.13.1)\n",
      "Collecting humanfriendly>=9.1 (from coloredlogs->onnxruntime)\n",
      "  Downloading humanfriendly-10.0-py2.py3-none-any.whl.metadata (9.2 kB)\n",
      "Requirement already satisfied: mpmath<1.4,>=1.1.0 in /usr/local/lib/python3.11/dist-packages (from sympy->onnxruntime) (1.3.0)\n",
      "Downloading onnx-1.18.0-cp311-cp311-manylinux_2_17_x86_64.manylinux2014_x86_64.whl (17.6 MB)\n",
      "\u001b[2K   \u001b[90m━━━━━━━━━━━━━━━━━━━━━━━━━━━━━━━━━━━━━━━━\u001b[0m \u001b[32m17.6/17.6 MB\u001b[0m \u001b[31m92.1 MB/s\u001b[0m eta \u001b[36m0:00:00\u001b[0m\n",
      "\u001b[?25hDownloading onnxruntime-1.22.0-cp311-cp311-manylinux_2_27_x86_64.manylinux_2_28_x86_64.whl (16.4 MB)\n",
      "\u001b[2K   \u001b[90m━━━━━━━━━━━━━━━━━━━━━━━━━━━━━━━━━━━━━━━━\u001b[0m \u001b[32m16.4/16.4 MB\u001b[0m \u001b[31m88.2 MB/s\u001b[0m eta \u001b[36m0:00:00\u001b[0m\n",
      "\u001b[?25hDownloading coloredlogs-15.0.1-py2.py3-none-any.whl (46 kB)\n",
      "\u001b[2K   \u001b[90m━━━━━━━━━━━━━━━━━━━━━━━━━━━━━━━━━━━━━━━━\u001b[0m \u001b[32m46.0/46.0 kB\u001b[0m \u001b[31m4.2 MB/s\u001b[0m eta \u001b[36m0:00:00\u001b[0m\n",
      "\u001b[?25hDownloading humanfriendly-10.0-py2.py3-none-any.whl (86 kB)\n",
      "\u001b[2K   \u001b[90m━━━━━━━━━━━━━━━━━━━━━━━━━━━━━━━━━━━━━━━━\u001b[0m \u001b[32m86.8/86.8 kB\u001b[0m \u001b[31m8.5 MB/s\u001b[0m eta \u001b[36m0:00:00\u001b[0m\n",
      "\u001b[?25hInstalling collected packages: onnx, humanfriendly, coloredlogs, onnxruntime\n",
      "Successfully installed coloredlogs-15.0.1 humanfriendly-10.0 onnx-1.18.0 onnxruntime-1.22.0\n"
     ]
    }
   ],
   "source": [
    "!pip install onnx onnxruntime-gpu"
   ]
  },
  {
   "cell_type": "code",
   "execution_count": 1,
   "id": "B9a2EukdCHQS",
   "metadata": {
    "id": "B9a2EukdCHQS"
   },
   "outputs": [],
   "source": [
    "import onnx\n",
    "import onnxruntime as ort"
   ]
  },
  {
   "cell_type": "code",
   "execution_count": 46,
   "id": "fQ3JXMp4HAIt",
   "metadata": {
    "colab": {
     "base_uri": "https://localhost:8080/"
    },
    "id": "fQ3JXMp4HAIt",
    "outputId": "6fadd689-6da7-4c60-a4f3-370b530ac754"
   },
   "outputs": [
    {
     "name": "stderr",
     "output_type": "stream",
     "text": [
      "Some weights of DistilBertForSequenceClassification were not initialized from the model checkpoint at distilbert-base-uncased and are newly initialized: ['classifier.bias', 'classifier.weight', 'pre_classifier.bias', 'pre_classifier.weight']\n",
      "You should probably TRAIN this model on a down-stream task to be able to use it for predictions and inference.\n"
     ]
    },
    {
     "data": {
      "text/plain": [
       "<All keys matched successfully>"
      ]
     },
     "execution_count": 46,
     "metadata": {},
     "output_type": "execute_result"
    }
   ],
   "source": [
    "device = torch.device(\"cpu\")\n",
    "model = DistilBertForSequenceClassification.from_pretrained(model_name)\n",
    "state_dict = torch.load(model_path, map_location=device)\n",
    "model.load_state_dict(state_dict)"
   ]
  },
  {
   "cell_type": "code",
   "execution_count": 47,
   "id": "KBpJ0ljSHY0V",
   "metadata": {
    "id": "KBpJ0ljSHY0V"
   },
   "outputs": [],
   "source": [
    "onnx_model_path = \"models/model.onnx\"\n",
    "\n",
    "# dummy input - used to clarify the input shape\n",
    "batch_size = 1\n",
    "seq_len    = max_len\n",
    "dummy_input_ids = torch.randint(\n",
    "    low=0,\n",
    "    high=tokenizer.vocab_size,\n",
    "    size=(batch_size, seq_len),\n",
    "    dtype=torch.long,\n",
    "    device=model.device\n",
    ")\n",
    "dummy_attention_mask = torch.ones(\n",
    "    (batch_size, seq_len),\n",
    "    dtype=torch.long,\n",
    "    device=model.device\n",
    ")\n",
    "\n",
    "# export\n",
    "torch.onnx.export(\n",
    "    model,\n",
    "    (dummy_input_ids, dummy_attention_mask),\n",
    "    onnx_model_path,\n",
    "    export_params=True,\n",
    "    opset_version=14,\n",
    "    do_constant_folding=True,\n",
    "    input_names=[\"input_ids\", \"attention_mask\"],\n",
    "    output_names=[\"logits\"],\n",
    "    dynamic_axes={\n",
    "        \"input_ids\":       {0: \"batch_size\", 1: \"seq_len\"},\n",
    "        \"attention_mask\":  {0: \"batch_size\", 1: \"seq_len\"},\n",
    "        \"logits\":          {0: \"batch_size\"}\n",
    "    }\n",
    ")\n",
    "\n",
    "# sanity check\n",
    "onnx_model = onnx.load(onnx_model_path)\n",
    "onnx.checker.check_model(onnx_model)"
   ]
  },
  {
   "cell_type": "code",
   "execution_count": 49,
   "id": "hYECqMXnyfdU",
   "metadata": {
    "colab": {
     "base_uri": "https://localhost:8080/"
    },
    "id": "hYECqMXnyfdU",
    "outputId": "43ce4a0c-1382-4ed5-fc4b-fd06203569a8"
   },
   "outputs": [
    {
     "name": "stdout",
     "output_type": "stream",
     "text": [
      "Model Size on Disk: 267.96 MB\n"
     ]
    }
   ],
   "source": [
    "model_size = os.path.getsize(onnx_model_path)\n",
    "print(f\"Model Size on Disk: {model_size/ (1e6) :.2f} MB\")"
   ]
  },
  {
   "cell_type": "markdown",
   "id": "sRZdA5xKx1S3",
   "metadata": {
    "id": "sRZdA5xKx1S3"
   },
   "source": [
    "#### Create inference session"
   ]
  },
  {
   "cell_type": "code",
   "execution_count": 57,
   "id": "PjjTPxHrHgtw",
   "metadata": {
    "colab": {
     "base_uri": "https://localhost:8080/"
    },
    "id": "PjjTPxHrHgtw",
    "outputId": "d3d1f035-8b84-4351-c368-4a3a5bf66b64"
   },
   "outputs": [
    {
     "data": {
      "text/plain": [
       "['CPUExecutionProvider']"
      ]
     },
     "execution_count": 57,
     "metadata": {},
     "output_type": "execute_result"
    }
   ],
   "source": [
    "ort_session = ort.InferenceSession(onnx_model_path, providers=['CPUExecutionProvider'])\n",
    "ort_session.get_providers()"
   ]
  },
  {
   "cell_type": "code",
   "execution_count": 58,
   "id": "MEbcKP1fy3EW",
   "metadata": {
    "id": "MEbcKP1fy3EW"
   },
   "outputs": [],
   "source": [
    "correct = 0\n",
    "total = 0\n",
    "\n",
    "num_samples = int(0.0001 * len(test_loader.dataset))\n",
    "samples_tested = 0\n",
    "\n",
    "for batch in test_loader:\n",
    "    if samples_tested >= num_samples:\n",
    "        break\n",
    "\n",
    "    input_ids = batch[\"input_ids\"].numpy()\n",
    "    attention_mask = batch[\"attention_mask\"].numpy()\n",
    "    labels = batch[\"labels\"].numpy()\n",
    "\n",
    "    outputs = ort_session.run(None, {\n",
    "        \"input_ids\": input_ids,\n",
    "        \"attention_mask\": attention_mask\n",
    "    })[0]\n",
    "\n",
    "    predicted = np.argmax(outputs, axis=1)\n",
    "    batch_size = labels.shape[0]\n",
    "    correct += (predicted == labels).sum()\n",
    "    total += batch_size\n",
    "    samples_tested += batch_size\n",
    "\n",
    "accuracy = (correct / total) * 100"
   ]
  },
  {
   "cell_type": "code",
   "execution_count": 59,
   "id": "33qjU9cBzuly",
   "metadata": {
    "colab": {
     "base_uri": "https://localhost:8080/"
    },
    "id": "33qjU9cBzuly",
    "outputId": "1634bca1-ea84-4ccc-987d-23dcc4137374"
   },
   "outputs": [
    {
     "name": "stdout",
     "output_type": "stream",
     "text": [
      "Accuracy: 96.09% (123/128 correct)\n"
     ]
    }
   ],
   "source": [
    "print(f\"Accuracy: {accuracy:.2f}% ({correct}/{total} correct)\")"
   ]
  },
  {
   "cell_type": "markdown",
   "id": "65-XRZcdz9MJ",
   "metadata": {
    "id": "65-XRZcdz9MJ"
   },
   "source": [
    "#### Inference Latency"
   ]
  },
  {
   "cell_type": "code",
   "execution_count": 60,
   "id": "HfWvfN47HnTu",
   "metadata": {
    "id": "HfWvfN47HnTu"
   },
   "outputs": [],
   "source": [
    "# Prepare a single tokenized sample\n",
    "model_input = tokenizer(\"This is a sample.\", return_tensors=\"np\", max_length=max_len, padding=\"max_length\", truncation=True)\n",
    "single_input_ids = model_input[\"input_ids\"]\n",
    "single_attention_mask = model_input[\"attention_mask\"]\n",
    "\n",
    "# Setup ONNX Runtime session\n",
    "ort_session = ort.InferenceSession(\"models/model.onnx\")\n",
    "\n",
    "# Warm-up\n",
    "ort_session.run(None, {\n",
    "    \"input_ids\": single_input_ids,\n",
    "    \"attention_mask\": single_attention_mask\n",
    "})\n",
    "\n",
    "# Timing\n",
    "latencies = []\n",
    "for _ in range(100):\n",
    "    start = time.time()\n",
    "    ort_session.run(None, {\n",
    "        \"input_ids\": single_input_ids,\n",
    "        \"attention_mask\": single_attention_mask\n",
    "    })\n",
    "    latencies.append(time.time() - start)"
   ]
  },
  {
   "cell_type": "code",
   "execution_count": 61,
   "id": "nox0neZ8y3dI",
   "metadata": {
    "colab": {
     "base_uri": "https://localhost:8080/"
    },
    "id": "nox0neZ8y3dI",
    "outputId": "da99a752-30eb-4c2a-f1cb-d46e8e851951"
   },
   "outputs": [
    {
     "name": "stdout",
     "output_type": "stream",
     "text": [
      "Inference Latency (single sample, median): 40.11 ms\n",
      "Inference Latency (single sample, 95th percentile): 40.53 ms\n",
      "Inference Latency (single sample, 99th percentile): 41.30 ms\n",
      "Inference Throughput (single sample): 24.92 FPS\n"
     ]
    }
   ],
   "source": [
    "print(f\"Inference Latency (single sample, median): {np.percentile(latencies, 50) * 1000:.2f} ms\")\n",
    "print(f\"Inference Latency (single sample, 95th percentile): {np.percentile(latencies, 95) * 1000:.2f} ms\")\n",
    "print(f\"Inference Latency (single sample, 99th percentile): {np.percentile(latencies, 99) * 1000:.2f} ms\")\n",
    "print(f\"Inference Throughput (single sample): {num_trials/np.sum(latencies):.2f} FPS\")"
   ]
  },
  {
   "cell_type": "markdown",
   "id": "gwjQH4ihz-_1",
   "metadata": {
    "id": "gwjQH4ihz-_1"
   },
   "source": [
    "#### Batch Throughput"
   ]
  },
  {
   "cell_type": "code",
   "execution_count": 62,
   "id": "Mb3w2EoqzfGL",
   "metadata": {
    "id": "Mb3w2EoqzfGL"
   },
   "outputs": [],
   "source": [
    "num_batches = 50\n",
    "\n",
    "# Get a batch from the test data\n",
    "batch = next(iter(test_loader))\n",
    "input_ids = batch[\"input_ids\"].numpy()\n",
    "attention_mask = batch[\"attention_mask\"].numpy()\n",
    "\n",
    "# Warm-up\n",
    "ort_session.run(None, {\n",
    "    \"input_ids\": input_ids,\n",
    "    \"attention_mask\": attention_mask\n",
    "})\n",
    "\n",
    "batch_times = []\n",
    "for _ in range(num_batches):\n",
    "    start_time = time.time()\n",
    "    ort_session.run(None, {\n",
    "        \"input_ids\": input_ids,\n",
    "        \"attention_mask\": attention_mask\n",
    "    })\n",
    "    batch_times.append(time.time() - start_time)"
   ]
  },
  {
   "cell_type": "code",
   "execution_count": 63,
   "id": "BUYsZh_U0FwO",
   "metadata": {
    "colab": {
     "base_uri": "https://localhost:8080/"
    },
    "id": "BUYsZh_U0FwO",
    "outputId": "6360d2fe-6290-4f37-a554-3f4bbbdbdf43"
   },
   "outputs": [
    {
     "name": "stdout",
     "output_type": "stream",
     "text": [
      "Batch Throughput: 41.60 FPS\n"
     ]
    }
   ],
   "source": [
    "batch_fps = (input_ids.shape[0] * num_batches) / np.sum(batch_times)\n",
    "print(f\"Batch Throughput: {batch_fps:.2f} FPS\")"
   ]
  },
  {
   "cell_type": "markdown",
   "id": "LQpOgxZq0Rt1",
   "metadata": {
    "id": "LQpOgxZq0Rt1"
   },
   "source": [
    "#### Summary"
   ]
  },
  {
   "cell_type": "code",
   "execution_count": 64,
   "id": "gtixPydh0GJL",
   "metadata": {
    "colab": {
     "base_uri": "https://localhost:8080/"
    },
    "id": "gtixPydh0GJL",
    "outputId": "e9a0dd55-f026-428e-ef5a-9c30092cc8eb"
   },
   "outputs": [
    {
     "name": "stdout",
     "output_type": "stream",
     "text": [
      "Accuracy: 96.09% (123/128 correct)\n",
      "Model Size on Disk: 267.96 MB\n",
      "Inference Latency (single sample, median): 40.11 ms\n",
      "Inference Latency (single sample, 95th percentile): 40.53 ms\n",
      "Inference Latency (single sample, 99th percentile): 41.30 ms\n",
      "Inference Throughput (single sample): 24.92 FPS\n",
      "Batch Throughput: 41.60 FPS\n"
     ]
    }
   ],
   "source": [
    "print(f\"Accuracy: {accuracy:.2f}% ({correct}/{total} correct)\")\n",
    "print(f\"Model Size on Disk: {model_size/ (1e6) :.2f} MB\")\n",
    "print(f\"Inference Latency (single sample, median): {np.percentile(latencies, 50) * 1000:.2f} ms\")\n",
    "print(f\"Inference Latency (single sample, 95th percentile): {np.percentile(latencies, 95) * 1000:.2f} ms\")\n",
    "print(f\"Inference Latency (single sample, 99th percentile): {np.percentile(latencies, 99) * 1000:.2f} ms\")\n",
    "print(f\"Inference Throughput (single sample): {num_trials/np.sum(latencies):.2f} FPS\")\n",
    "print(f\"Batch Throughput: {batch_fps:.2f} FPS\")"
   ]
  },
  {
   "cell_type": "markdown",
   "id": "2_LFg3-I0pQ2",
   "metadata": {
    "id": "2_LFg3-I0pQ2"
   },
   "source": [
    "### Apply optimizations to ONNX model"
   ]
  },
  {
   "cell_type": "code",
   "execution_count": 4,
   "id": "6OLUNUh31QLV",
   "metadata": {
    "id": "6OLUNUh31QLV"
   },
   "outputs": [],
   "source": [
    "def benchmark_session(ort_session):\n",
    "    print(f\"Execution provider: {ort_session.get_providers()}\")\n",
    "\n",
    "    ## Benchmark accuracy (0.01% of test set)\n",
    "    correct = 0\n",
    "    total = 0\n",
    "    num_samples = int(0.0001 * len(test_loader.dataset))\n",
    "    samples_tested = 0\n",
    "\n",
    "    for batch in test_loader:\n",
    "        if samples_tested >= num_samples:\n",
    "            break\n",
    "\n",
    "        input_ids = batch[\"input_ids\"].numpy()\n",
    "        attention_mask = batch[\"attention_mask\"].numpy()\n",
    "        labels = batch[\"labels\"].numpy()\n",
    "\n",
    "        outputs = ort_session.run(None, {\n",
    "            \"input_ids\": input_ids,\n",
    "            \"attention_mask\": attention_mask\n",
    "        })[0]\n",
    "\n",
    "        predicted = np.argmax(outputs, axis=1)\n",
    "        batch_size = labels.shape[0]\n",
    "        correct += (predicted == labels).sum()\n",
    "        total += batch_size\n",
    "        samples_tested += batch_size\n",
    "\n",
    "    accuracy = (correct / total) * 100\n",
    "    print(f\"Accuracy (0.01% sampled): {accuracy:.2f}% ({correct}/{total} correct)\")\n",
    "\n",
    "    ## Benchmark inference latency for single sample\n",
    "    num_trials = 100\n",
    "    single_batch = next(iter(test_loader))\n",
    "    input_ids = single_batch[\"input_ids\"][:1].numpy()\n",
    "    attention_mask = single_batch[\"attention_mask\"][:1].numpy()\n",
    "\n",
    "    ort_session.run(None, {\n",
    "        \"input_ids\": input_ids,\n",
    "        \"attention_mask\": attention_mask\n",
    "    })\n",
    "\n",
    "    latencies = []\n",
    "    for _ in range(num_trials):\n",
    "        start = time.time()\n",
    "        ort_session.run(None, {\n",
    "            \"input_ids\": input_ids,\n",
    "            \"attention_mask\": attention_mask\n",
    "        })\n",
    "        latencies.append(time.time() - start)\n",
    "\n",
    "    print(f\"Inference Latency (single sample, median): {np.percentile(latencies, 50) * 1000:.2f} ms\")\n",
    "    print(f\"Inference Latency (single sample, 95th percentile): {np.percentile(latencies, 95) * 1000:.2f} ms\")\n",
    "    print(f\"Inference Latency (single sample, 99th percentile): {np.percentile(latencies, 99) * 1000:.2f} ms\")\n",
    "    print(f\"Inference Throughput (single sample): {num_trials / np.sum(latencies):.2f} FPS\")\n",
    "\n",
    "    ## Benchmark batch throughput\n",
    "    num_batches = 50\n",
    "    input_ids = single_batch[\"input_ids\"].numpy()\n",
    "    attention_mask = single_batch[\"attention_mask\"].numpy()\n",
    "\n",
    "    ort_session.run(None, {\n",
    "        \"input_ids\": input_ids,\n",
    "        \"attention_mask\": attention_mask\n",
    "    })\n",
    "\n",
    "    batch_times = []\n",
    "    for _ in range(num_batches):\n",
    "        start = time.time()\n",
    "        ort_session.run(None, {\n",
    "            \"input_ids\": input_ids,\n",
    "            \"attention_mask\": attention_mask\n",
    "        })\n",
    "        batch_times.append(time.time() - start)\n",
    "\n",
    "    batch_fps = (input_ids.shape[0] * num_batches) / np.sum(batch_times)\n",
    "    print(f\"Batch Throughput: {batch_fps:.2f} FPS\")"
   ]
  },
  {
   "cell_type": "markdown",
   "id": "489OE5kZ1khe",
   "metadata": {
    "id": "489OE5kZ1khe"
   },
   "source": [
    "#### Apply basic graph optimizations"
   ]
  },
  {
   "cell_type": "code",
   "execution_count": 67,
   "id": "sF4gNLhj0nku",
   "metadata": {
    "id": "sF4gNLhj0nku"
   },
   "outputs": [],
   "source": [
    "onnx_model_path = \"models/model.onnx\"\n",
    "optimized_model_path = \"models/model_optimized.onnx\"\n",
    "\n",
    "session_options = ort.SessionOptions()\n",
    "session_options.graph_optimization_level = ort.GraphOptimizationLevel.ORT_ENABLE_EXTENDED\n",
    "session_options.optimized_model_filepath = optimized_model_path\n",
    "\n",
    "ort_session = ort.InferenceSession(\n",
    "    onnx_model_path,\n",
    "    sess_options=session_options,\n",
    "    providers=[\"CPUExecutionProvider\"]\n",
    ")"
   ]
  },
  {
   "cell_type": "code",
   "execution_count": 68,
   "id": "aHbK_trg1wzC",
   "metadata": {
    "colab": {
     "base_uri": "https://localhost:8080/"
    },
    "id": "aHbK_trg1wzC",
    "outputId": "06c47ab2-67cf-4bcb-d60e-f35cb46e95d6"
   },
   "outputs": [
    {
     "name": "stdout",
     "output_type": "stream",
     "text": [
      "Execution provider: ['CPUExecutionProvider']\n",
      "Accuracy (0.01% sampled): 96.09% (123/128 correct)\n",
      "Inference Latency (single sample, median): 24.31 ms\n",
      "Inference Latency (single sample, 95th percentile): 25.66 ms\n",
      "Inference Latency (single sample, 99th percentile): 32.61 ms\n",
      "Inference Throughput (single sample): 40.47 FPS\n",
      "Batch Throughput: 35.77 FPS\n"
     ]
    }
   ],
   "source": [
    "onnx_model_path = \"models/model_optimized.onnx\"\n",
    "ort_session = ort.InferenceSession(onnx_model_path, providers=[\"CPUExecutionProvider\"])\n",
    "benchmark_session(ort_session)"
   ]
  },
  {
   "cell_type": "markdown",
   "id": "cIj7mL9J15ry",
   "metadata": {
    "id": "cIj7mL9J15ry"
   },
   "source": [
    "#### Dynamic quantization"
   ]
  },
  {
   "cell_type": "code",
   "execution_count": 70,
   "id": "2aQk5_JD2coU",
   "metadata": {
    "colab": {
     "base_uri": "https://localhost:8080/"
    },
    "collapsed": true,
    "id": "2aQk5_JD2coU",
    "jupyter": {
     "outputs_hidden": true
    },
    "outputId": "2485e5d0-50d8-4550-c8fe-fa2177712f5b"
   },
   "outputs": [
    {
     "name": "stdout",
     "output_type": "stream",
     "text": [
      "Collecting neural-compressor\n",
      "  Downloading neural_compressor-3.3.1-py3-none-any.whl.metadata (15 kB)\n",
      "Collecting deprecated>=1.2.13 (from neural-compressor)\n",
      "  Downloading Deprecated-1.2.18-py2.py3-none-any.whl.metadata (5.7 kB)\n",
      "Collecting numpy<2.0 (from neural-compressor)\n",
      "  Downloading numpy-1.26.4-cp311-cp311-manylinux_2_17_x86_64.manylinux2014_x86_64.whl.metadata (61 kB)\n",
      "\u001b[2K     \u001b[90m━━━━━━━━━━━━━━━━━━━━━━━━━━━━━━━━━━━━━━━━\u001b[0m \u001b[32m61.0/61.0 kB\u001b[0m \u001b[31m2.9 MB/s\u001b[0m eta \u001b[36m0:00:00\u001b[0m\n",
      "\u001b[?25hRequirement already satisfied: opencv-python-headless in /usr/local/lib/python3.11/dist-packages (from neural-compressor) (4.11.0.86)\n",
      "Requirement already satisfied: pandas in /usr/local/lib/python3.11/dist-packages (from neural-compressor) (2.2.2)\n",
      "Requirement already satisfied: Pillow in /usr/local/lib/python3.11/dist-packages (from neural-compressor) (11.2.1)\n",
      "Requirement already satisfied: prettytable in /usr/local/lib/python3.11/dist-packages (from neural-compressor) (3.16.0)\n",
      "Requirement already satisfied: psutil in /usr/local/lib/python3.11/dist-packages (from neural-compressor) (5.9.5)\n",
      "Requirement already satisfied: py-cpuinfo in /usr/local/lib/python3.11/dist-packages (from neural-compressor) (9.0.0)\n",
      "Requirement already satisfied: pycocotools in /usr/local/lib/python3.11/dist-packages (from neural-compressor) (2.0.8)\n",
      "Requirement already satisfied: pyyaml in /usr/local/lib/python3.11/dist-packages (from neural-compressor) (6.0.2)\n",
      "Requirement already satisfied: requests in /usr/local/lib/python3.11/dist-packages (from neural-compressor) (2.32.3)\n",
      "Collecting schema (from neural-compressor)\n",
      "  Downloading schema-0.7.7-py2.py3-none-any.whl.metadata (34 kB)\n",
      "Requirement already satisfied: scikit-learn in /usr/local/lib/python3.11/dist-packages (from neural-compressor) (1.6.1)\n",
      "Requirement already satisfied: wrapt<2,>=1.10 in /usr/local/lib/python3.11/dist-packages (from deprecated>=1.2.13->neural-compressor) (1.17.2)\n",
      "Requirement already satisfied: python-dateutil>=2.8.2 in /usr/local/lib/python3.11/dist-packages (from pandas->neural-compressor) (2.9.0.post0)\n",
      "Requirement already satisfied: pytz>=2020.1 in /usr/local/lib/python3.11/dist-packages (from pandas->neural-compressor) (2025.2)\n",
      "Requirement already satisfied: tzdata>=2022.7 in /usr/local/lib/python3.11/dist-packages (from pandas->neural-compressor) (2025.2)\n",
      "Requirement already satisfied: wcwidth in /usr/local/lib/python3.11/dist-packages (from prettytable->neural-compressor) (0.2.13)\n",
      "Requirement already satisfied: matplotlib>=2.1.0 in /usr/local/lib/python3.11/dist-packages (from pycocotools->neural-compressor) (3.10.0)\n",
      "Requirement already satisfied: charset-normalizer<4,>=2 in /usr/local/lib/python3.11/dist-packages (from requests->neural-compressor) (3.4.2)\n",
      "Requirement already satisfied: idna<4,>=2.5 in /usr/local/lib/python3.11/dist-packages (from requests->neural-compressor) (3.10)\n",
      "Requirement already satisfied: urllib3<3,>=1.21.1 in /usr/local/lib/python3.11/dist-packages (from requests->neural-compressor) (2.4.0)\n",
      "Requirement already satisfied: certifi>=2017.4.17 in /usr/local/lib/python3.11/dist-packages (from requests->neural-compressor) (2025.4.26)\n",
      "Requirement already satisfied: scipy>=1.6.0 in /usr/local/lib/python3.11/dist-packages (from scikit-learn->neural-compressor) (1.15.3)\n",
      "Requirement already satisfied: joblib>=1.2.0 in /usr/local/lib/python3.11/dist-packages (from scikit-learn->neural-compressor) (1.5.0)\n",
      "Requirement already satisfied: threadpoolctl>=3.1.0 in /usr/local/lib/python3.11/dist-packages (from scikit-learn->neural-compressor) (3.6.0)\n",
      "Requirement already satisfied: contourpy>=1.0.1 in /usr/local/lib/python3.11/dist-packages (from matplotlib>=2.1.0->pycocotools->neural-compressor) (1.3.2)\n",
      "Requirement already satisfied: cycler>=0.10 in /usr/local/lib/python3.11/dist-packages (from matplotlib>=2.1.0->pycocotools->neural-compressor) (0.12.1)\n",
      "Requirement already satisfied: fonttools>=4.22.0 in /usr/local/lib/python3.11/dist-packages (from matplotlib>=2.1.0->pycocotools->neural-compressor) (4.58.0)\n",
      "Requirement already satisfied: kiwisolver>=1.3.1 in /usr/local/lib/python3.11/dist-packages (from matplotlib>=2.1.0->pycocotools->neural-compressor) (1.4.8)\n",
      "Requirement already satisfied: packaging>=20.0 in /usr/local/lib/python3.11/dist-packages (from matplotlib>=2.1.0->pycocotools->neural-compressor) (24.2)\n",
      "Requirement already satisfied: pyparsing>=2.3.1 in /usr/local/lib/python3.11/dist-packages (from matplotlib>=2.1.0->pycocotools->neural-compressor) (3.2.3)\n",
      "Requirement already satisfied: six>=1.5 in /usr/local/lib/python3.11/dist-packages (from python-dateutil>=2.8.2->pandas->neural-compressor) (1.17.0)\n",
      "Downloading neural_compressor-3.3.1-py3-none-any.whl (1.8 MB)\n",
      "\u001b[2K   \u001b[90m━━━━━━━━━━━━━━━━━━━━━━━━━━━━━━━━━━━━━━━━\u001b[0m \u001b[32m1.8/1.8 MB\u001b[0m \u001b[31m31.8 MB/s\u001b[0m eta \u001b[36m0:00:00\u001b[0m\n",
      "\u001b[?25hDownloading Deprecated-1.2.18-py2.py3-none-any.whl (10.0 kB)\n",
      "Downloading numpy-1.26.4-cp311-cp311-manylinux_2_17_x86_64.manylinux2014_x86_64.whl (18.3 MB)\n",
      "\u001b[2K   \u001b[90m━━━━━━━━━━━━━━━━━━━━━━━━━━━━━━━━━━━━━━━━\u001b[0m \u001b[32m18.3/18.3 MB\u001b[0m \u001b[31m108.7 MB/s\u001b[0m eta \u001b[36m0:00:00\u001b[0m\n",
      "\u001b[?25hDownloading schema-0.7.7-py2.py3-none-any.whl (18 kB)\n",
      "Installing collected packages: schema, numpy, deprecated, neural-compressor\n",
      "  Attempting uninstall: numpy\n",
      "    Found existing installation: numpy 2.0.2\n",
      "    Uninstalling numpy-2.0.2:\n",
      "      Successfully uninstalled numpy-2.0.2\n",
      "\u001b[31mERROR: pip's dependency resolver does not currently take into account all the packages that are installed. This behaviour is the source of the following dependency conflicts.\n",
      "thinc 8.3.6 requires numpy<3.0.0,>=2.0.0, but you have numpy 1.26.4 which is incompatible.\u001b[0m\u001b[31m\n",
      "\u001b[0mSuccessfully installed deprecated-1.2.18 neural-compressor-3.3.1 numpy-1.26.4 schema-0.7.7\n"
     ]
    }
   ],
   "source": [
    "!pip install neural-compressor"
   ]
  },
  {
   "cell_type": "code",
   "execution_count": 71,
   "id": "IfBccYP017gd",
   "metadata": {
    "id": "IfBccYP017gd"
   },
   "outputs": [],
   "source": [
    "import neural_compressor\n",
    "from neural_compressor import quantization"
   ]
  },
  {
   "cell_type": "code",
   "execution_count": 72,
   "id": "tUCYjwEW2Mdv",
   "metadata": {
    "colab": {
     "base_uri": "https://localhost:8080/"
    },
    "id": "tUCYjwEW2Mdv",
    "outputId": "3e72ca88-ceea-41fd-e025-bbaac2cdf4fb"
   },
   "outputs": [
    {
     "name": "stderr",
     "output_type": "stream",
     "text": [
      "2025-05-16 02:09:09 [INFO] Start auto tuning.\n",
      "2025-05-16 02:09:09 [INFO] Quantize model without tuning!\n",
      "2025-05-16 02:09:09 [INFO] Quantize the model with default configuration without evaluating the model.                To perform the tuning process, please either provide an eval_func or provide an                    eval_dataloader an eval_metric.\n",
      "2025-05-16 02:09:09 [INFO] Adaptor has 5 recipes.\n",
      "2025-05-16 02:09:09 [INFO] 0 recipes specified by user.\n",
      "2025-05-16 02:09:09 [INFO] 3 recipes require future tuning.\n",
      "2025-05-16 02:09:10 [INFO] *** Initialize auto tuning\n",
      "2025-05-16 02:09:10 [INFO] {\n",
      "2025-05-16 02:09:10 [INFO]     'PostTrainingQuantConfig': {\n",
      "2025-05-16 02:09:10 [INFO]         'AccuracyCriterion': {\n",
      "2025-05-16 02:09:10 [INFO]             'criterion': 'relative',\n",
      "2025-05-16 02:09:10 [INFO]             'higher_is_better': True,\n",
      "2025-05-16 02:09:10 [INFO]             'tolerable_loss': 0.01,\n",
      "2025-05-16 02:09:10 [INFO]             'absolute': None,\n",
      "2025-05-16 02:09:10 [INFO]             'keys': <bound method AccuracyCriterion.keys of <neural_compressor.config.AccuracyCriterion object at 0x7b5d521c2290>>,\n",
      "2025-05-16 02:09:10 [INFO]             'relative': 0.01\n",
      "2025-05-16 02:09:10 [INFO]         },\n",
      "2025-05-16 02:09:10 [INFO]         'approach': 'post_training_dynamic_quant',\n",
      "2025-05-16 02:09:10 [INFO]         'backend': 'default',\n",
      "2025-05-16 02:09:10 [INFO]         'calibration_sampling_size': [\n",
      "2025-05-16 02:09:10 [INFO]             100\n",
      "2025-05-16 02:09:10 [INFO]         ],\n",
      "2025-05-16 02:09:10 [INFO]         'device': 'cpu',\n",
      "2025-05-16 02:09:10 [INFO]         'domain': 'auto',\n",
      "2025-05-16 02:09:10 [INFO]         'example_inputs': 'Not printed here due to large size tensors...',\n",
      "2025-05-16 02:09:10 [INFO]         'excluded_precisions': [\n",
      "2025-05-16 02:09:10 [INFO]         ],\n",
      "2025-05-16 02:09:10 [INFO]         'framework': 'onnxruntime',\n",
      "2025-05-16 02:09:10 [INFO]         'inputs': [\n",
      "2025-05-16 02:09:10 [INFO]         ],\n",
      "2025-05-16 02:09:10 [INFO]         'model_name': '',\n",
      "2025-05-16 02:09:10 [INFO]         'op_name_dict': None,\n",
      "2025-05-16 02:09:10 [INFO]         'op_type_dict': None,\n",
      "2025-05-16 02:09:10 [INFO]         'outputs': [\n",
      "2025-05-16 02:09:10 [INFO]         ],\n",
      "2025-05-16 02:09:10 [INFO]         'quant_format': 'default',\n",
      "2025-05-16 02:09:10 [INFO]         'quant_level': 'auto',\n",
      "2025-05-16 02:09:10 [INFO]         'recipes': {\n",
      "2025-05-16 02:09:10 [INFO]             'smooth_quant': False,\n",
      "2025-05-16 02:09:10 [INFO]             'smooth_quant_args': {\n",
      "2025-05-16 02:09:10 [INFO]             },\n",
      "2025-05-16 02:09:10 [INFO]             'layer_wise_quant': False,\n",
      "2025-05-16 02:09:10 [INFO]             'layer_wise_quant_args': {\n",
      "2025-05-16 02:09:10 [INFO]             },\n",
      "2025-05-16 02:09:10 [INFO]             'fast_bias_correction': False,\n",
      "2025-05-16 02:09:10 [INFO]             'weight_correction': False,\n",
      "2025-05-16 02:09:10 [INFO]             'gemm_to_matmul': True,\n",
      "2025-05-16 02:09:10 [INFO]             'graph_optimization_level': None,\n",
      "2025-05-16 02:09:10 [INFO]             'first_conv_or_matmul_quantization': True,\n",
      "2025-05-16 02:09:10 [INFO]             'last_conv_or_matmul_quantization': True,\n",
      "2025-05-16 02:09:10 [INFO]             'pre_post_process_quantization': True,\n",
      "2025-05-16 02:09:10 [INFO]             'add_qdq_pair_to_weight': False,\n",
      "2025-05-16 02:09:10 [INFO]             'optypes_to_exclude_output_quant': [\n",
      "2025-05-16 02:09:10 [INFO]             ],\n",
      "2025-05-16 02:09:10 [INFO]             'dedicated_qdq_pair': False,\n",
      "2025-05-16 02:09:10 [INFO]             'rtn_args': {\n",
      "2025-05-16 02:09:10 [INFO]             },\n",
      "2025-05-16 02:09:10 [INFO]             'awq_args': {\n",
      "2025-05-16 02:09:10 [INFO]             },\n",
      "2025-05-16 02:09:10 [INFO]             'gptq_args': {\n",
      "2025-05-16 02:09:10 [INFO]             },\n",
      "2025-05-16 02:09:10 [INFO]             'teq_args': {\n",
      "2025-05-16 02:09:10 [INFO]             },\n",
      "2025-05-16 02:09:10 [INFO]             'autoround_args': {\n",
      "2025-05-16 02:09:10 [INFO]             }\n",
      "2025-05-16 02:09:10 [INFO]         },\n",
      "2025-05-16 02:09:10 [INFO]         'reduce_range': None,\n",
      "2025-05-16 02:09:10 [INFO]         'TuningCriterion': {\n",
      "2025-05-16 02:09:10 [INFO]             'max_trials': 100,\n",
      "2025-05-16 02:09:10 [INFO]             'objective': [\n",
      "2025-05-16 02:09:10 [INFO]                 'performance'\n",
      "2025-05-16 02:09:10 [INFO]             ],\n",
      "2025-05-16 02:09:10 [INFO]             'strategy': 'basic',\n",
      "2025-05-16 02:09:10 [INFO]             'strategy_kwargs': None,\n",
      "2025-05-16 02:09:10 [INFO]             'timeout': 0\n",
      "2025-05-16 02:09:10 [INFO]         },\n",
      "2025-05-16 02:09:10 [INFO]         'use_bf16': True,\n",
      "2025-05-16 02:09:10 [INFO]         'ni_workload_name': 'quantization'\n",
      "2025-05-16 02:09:10 [INFO]     }\n",
      "2025-05-16 02:09:10 [INFO] }\n",
      "2025-05-16 02:09:10 [WARNING] [Strategy] Please install `mpi4py` correctly if using distributed tuning; otherwise, ignore this warning.\n",
      "2025-05-16 02:09:10 [WARNING] The model is automatically detected as an NLP model. You can use 'domain' argument in 'PostTrainingQuantConfig' to overwrite it\n",
      "2025-05-16 02:09:10 [WARNING] Graph optimization level is automatically set to ENABLE_EXTENDED. You can use 'recipe' argument in 'PostTrainingQuantConfig'to overwrite it\n",
      "2025-05-16 02:09:12 [INFO] Do not evaluate the baseline and quantize the model with default configuration.\n",
      "2025-05-16 02:09:12 [INFO] Quantize the model with default config.\n",
      "2025-05-16 02:09:19 [INFO] |**********Mixed Precision Statistics*********|\n",
      "2025-05-16 02:09:19 [INFO] +-----------------------+-------+------+------+\n",
      "2025-05-16 02:09:19 [INFO] |        Op Type        | Total | INT8 | FP32 |\n",
      "2025-05-16 02:09:19 [INFO] +-----------------------+-------+------+------+\n",
      "2025-05-16 02:09:19 [INFO] |         MatMul        |   49  |  37  |  12  |\n",
      "2025-05-16 02:09:19 [INFO] |         Gather        |   19  |  2   |  17  |\n",
      "2025-05-16 02:09:19 [INFO] |    DequantizeLinear   |   2   |  2   |  0   |\n",
      "2025-05-16 02:09:19 [INFO] | DynamicQuantizeLinear |   25  |  25  |  0   |\n",
      "2025-05-16 02:09:19 [INFO] +-----------------------+-------+------+------+\n",
      "2025-05-16 02:09:19 [INFO] Pass quantize model elapsed time: 7455.17 ms\n",
      "2025-05-16 02:09:19 [INFO] Save tuning history to /content/nc_workspace/2025-05-16_02-09-04/./history.snapshot.\n",
      "2025-05-16 02:09:20 [INFO] [Strategy] Found the model meets accuracy requirements, ending the tuning process.\n",
      "2025-05-16 02:09:20 [INFO] Specified timeout or max trials is reached! Found a quantized model which meet accuracy goal. Exit.\n",
      "2025-05-16 02:09:20 [INFO] Save deploy yaml to /content/nc_workspace/2025-05-16_02-09-04/deploy.yaml\n"
     ]
    }
   ],
   "source": [
    "# Load ONNX model\n",
    "model_path = \"models/model.onnx\"\n",
    "fp32_model = neural_compressor.model.onnx_model.ONNXModel(model_path)\n",
    "\n",
    "# Configure dynamic quantization\n",
    "config_ptq = neural_compressor.PostTrainingQuantConfig(\n",
    "    approach=\"dynamic\"\n",
    ")\n",
    "\n",
    "# Quantize\n",
    "q_model = quantization.fit(\n",
    "    model=fp32_model,\n",
    "    conf=config_ptq\n",
    ")"
   ]
  },
  {
   "cell_type": "code",
   "execution_count": 73,
   "id": "XW5PFzfg2WIA",
   "metadata": {
    "id": "XW5PFzfg2WIA"
   },
   "outputs": [],
   "source": [
    "# Save quantized model\n",
    "quant_model_path = \"models/model_quantized_dynamic.onnx\"\n",
    "q_model.save_model_to_file(quant_model_path)"
   ]
  },
  {
   "cell_type": "code",
   "execution_count": 74,
   "id": "TUmNu4CG2Ye8",
   "metadata": {
    "colab": {
     "base_uri": "https://localhost:8080/"
    },
    "id": "TUmNu4CG2Ye8",
    "outputId": "21422885-790f-40fa-8718-a5b70608074d"
   },
   "outputs": [
    {
     "name": "stdout",
     "output_type": "stream",
     "text": [
      "Model Size on Disk: 69.24 MB\n"
     ]
    }
   ],
   "source": [
    "# Print model size\n",
    "model_size = os.path.getsize(quant_model_path)\n",
    "print(f\"Model Size on Disk: {model_size / 1e6:.2f} MB\")"
   ]
  },
  {
   "cell_type": "code",
   "execution_count": 75,
   "id": "lu2XCw5a2Zic",
   "metadata": {
    "colab": {
     "base_uri": "https://localhost:8080/"
    },
    "id": "lu2XCw5a2Zic",
    "outputId": "dfb266c9-3630-49cf-d2b6-52fda4f45700"
   },
   "outputs": [
    {
     "name": "stdout",
     "output_type": "stream",
     "text": [
      "Execution provider: ['CPUExecutionProvider']\n",
      "Accuracy (0.01% sampled): 93.75% (120/128 correct)\n",
      "Inference Latency (single sample, median): 19.46 ms\n",
      "Inference Latency (single sample, 95th percentile): 19.91 ms\n",
      "Inference Latency (single sample, 99th percentile): 20.16 ms\n",
      "Inference Throughput (single sample): 51.27 FPS\n",
      "Batch Throughput: 61.72 FPS\n"
     ]
    }
   ],
   "source": [
    "ort_session = ort.InferenceSession(quant_model_path, providers=[\"CPUExecutionProvider\"])\n",
    "benchmark_session(ort_session)"
   ]
  },
  {
   "cell_type": "markdown",
   "id": "E5LV9wef3gJA",
   "metadata": {
    "id": "E5LV9wef3gJA"
   },
   "source": [
    "### Try a different execution providers"
   ]
  },
  {
   "cell_type": "markdown",
   "id": "VyXCXg4P3sx7",
   "metadata": {
    "id": "VyXCXg4P3sx7"
   },
   "source": [
    "#### CPU"
   ]
  },
  {
   "cell_type": "code",
   "execution_count": 80,
   "id": "9S5_rMaY3gWX",
   "metadata": {
    "colab": {
     "base_uri": "https://localhost:8080/"
    },
    "id": "9S5_rMaY3gWX",
    "outputId": "8e5b92f8-66b5-427e-9a2b-0a6ab90ec5e7"
   },
   "outputs": [
    {
     "name": "stdout",
     "output_type": "stream",
     "text": [
      "Execution provider: ['CPUExecutionProvider']\n",
      "Accuracy (0.01% sampled): 96.09% (123/128 correct)\n",
      "Inference Latency (single sample, median): 40.51 ms\n",
      "Inference Latency (single sample, 95th percentile): 41.10 ms\n",
      "Inference Latency (single sample, 99th percentile): 41.29 ms\n",
      "Inference Throughput (single sample): 24.64 FPS\n",
      "Batch Throughput: 25.55 FPS\n"
     ]
    }
   ],
   "source": [
    "onnx_model_path = \"models/model.onnx\"\n",
    "ort_session = ort.InferenceSession(onnx_model_path, providers=[\"CPUExecutionProvider\"])\n",
    "benchmark_session(ort_session)"
   ]
  },
  {
   "cell_type": "markdown",
   "id": "oWmA1Xxl3t8d",
   "metadata": {
    "id": "oWmA1Xxl3t8d"
   },
   "source": [
    "#### CUDA"
   ]
  },
  {
   "cell_type": "code",
   "execution_count": 14,
   "id": "XARdH3BJ3mLh",
   "metadata": {
    "colab": {
     "base_uri": "https://localhost:8080/",
     "height": 154
    },
    "id": "XARdH3BJ3mLh",
    "outputId": "b3834766-228b-4c76-e289-31f20b90e98e"
   },
   "outputs": [
    {
     "name": "stdout",
     "output_type": "stream",
     "text": [
      "Execution provider: ['CUDAExecutionProvider', 'CPUExecutionProvider']\n",
      "Accuracy (0.01% sampled): 96.09% (123/128 correct)\n",
      "Inference Latency (single sample, median): 1.69 ms\n",
      "Inference Latency (single sample, 95th percentile): 1.87 ms\n",
      "Inference Latency (single sample, 99th percentile): 1.93 ms\n",
      "Inference Throughput (single sample): 581.60 FPS\n",
      "Batch Throughput: 5005.71 FPS\n"
     ]
    },
    {
     "data": {
      "application/vnd.google.colaboratory.intrinsic+json": {
       "type": "string"
      },
      "text/plain": [
       "'GPU'"
      ]
     },
     "execution_count": 14,
     "metadata": {},
     "output_type": "execute_result"
    }
   ],
   "source": [
    "onnx_model_path = \"models/model.onnx\"\n",
    "ort_session = ort.InferenceSession(onnx_model_path, providers=[\"CUDAExecutionProvider\"])\n",
    "benchmark_session(ort_session)\n",
    "ort.get_device()"
   ]
  }
 ],
 "metadata": {
  "accelerator": "GPU",
  "colab": {
   "gpuType": "A100",
   "provenance": []
  },
  "kernelspec": {
   "display_name": "Python 3 (ipykernel)",
   "language": "python",
   "name": "python3"
  },
  "language_info": {
   "codemirror_mode": {
    "name": "ipython",
    "version": 3
   },
   "file_extension": ".py",
   "mimetype": "text/x-python",
   "name": "python",
   "nbconvert_exporter": "python",
   "pygments_lexer": "ipython3",
   "version": "3.11.8"
  },
  "widgets": {
   "application/vnd.jupyter.widget-state+json": {
    "03e784427660462eba19a57b98183b3b": {
     "model_module": "@jupyter-widgets/controls",
     "model_module_version": "1.5.0",
     "model_name": "FloatProgressModel",
     "state": {
      "_dom_classes": [],
      "_model_module": "@jupyter-widgets/controls",
      "_model_module_version": "1.5.0",
      "_model_name": "FloatProgressModel",
      "_view_count": null,
      "_view_module": "@jupyter-widgets/controls",
      "_view_module_version": "1.5.0",
      "_view_name": "ProgressView",
      "bar_style": "success",
      "description": "",
      "description_tooltip": null,
      "layout": "IPY_MODEL_641c615cc23e46a0989b7226eece3662",
      "max": 267954768,
      "min": 0,
      "orientation": "horizontal",
      "style": "IPY_MODEL_ee7a9c035a9142178b9c2a16bdf29110",
      "value": 267954768
     }
    },
    "083c6078f1ea4852a7591308040982d0": {
     "model_module": "@jupyter-widgets/base",
     "model_module_version": "1.2.0",
     "model_name": "LayoutModel",
     "state": {
      "_model_module": "@jupyter-widgets/base",
      "_model_module_version": "1.2.0",
      "_model_name": "LayoutModel",
      "_view_count": null,
      "_view_module": "@jupyter-widgets/base",
      "_view_module_version": "1.2.0",
      "_view_name": "LayoutView",
      "align_content": null,
      "align_items": null,
      "align_self": null,
      "border": null,
      "bottom": null,
      "display": null,
      "flex": null,
      "flex_flow": null,
      "grid_area": null,
      "grid_auto_columns": null,
      "grid_auto_flow": null,
      "grid_auto_rows": null,
      "grid_column": null,
      "grid_gap": null,
      "grid_row": null,
      "grid_template_areas": null,
      "grid_template_columns": null,
      "grid_template_rows": null,
      "height": null,
      "justify_content": null,
      "justify_items": null,
      "left": null,
      "margin": null,
      "max_height": null,
      "max_width": null,
      "min_height": null,
      "min_width": null,
      "object_fit": null,
      "object_position": null,
      "order": null,
      "overflow": null,
      "overflow_x": null,
      "overflow_y": null,
      "padding": null,
      "right": null,
      "top": null,
      "visibility": null,
      "width": null
     }
    },
    "0d73701e68764559bcba8a76cbd50ded": {
     "model_module": "@jupyter-widgets/base",
     "model_module_version": "1.2.0",
     "model_name": "LayoutModel",
     "state": {
      "_model_module": "@jupyter-widgets/base",
      "_model_module_version": "1.2.0",
      "_model_name": "LayoutModel",
      "_view_count": null,
      "_view_module": "@jupyter-widgets/base",
      "_view_module_version": "1.2.0",
      "_view_name": "LayoutView",
      "align_content": null,
      "align_items": null,
      "align_self": null,
      "border": null,
      "bottom": null,
      "display": null,
      "flex": null,
      "flex_flow": null,
      "grid_area": null,
      "grid_auto_columns": null,
      "grid_auto_flow": null,
      "grid_auto_rows": null,
      "grid_column": null,
      "grid_gap": null,
      "grid_row": null,
      "grid_template_areas": null,
      "grid_template_columns": null,
      "grid_template_rows": null,
      "height": null,
      "justify_content": null,
      "justify_items": null,
      "left": null,
      "margin": null,
      "max_height": null,
      "max_width": null,
      "min_height": null,
      "min_width": null,
      "object_fit": null,
      "object_position": null,
      "order": null,
      "overflow": null,
      "overflow_x": null,
      "overflow_y": null,
      "padding": null,
      "right": null,
      "top": null,
      "visibility": null,
      "width": null
     }
    },
    "0f001922f43945aa83206f58ecd88f61": {
     "model_module": "@jupyter-widgets/base",
     "model_module_version": "1.2.0",
     "model_name": "LayoutModel",
     "state": {
      "_model_module": "@jupyter-widgets/base",
      "_model_module_version": "1.2.0",
      "_model_name": "LayoutModel",
      "_view_count": null,
      "_view_module": "@jupyter-widgets/base",
      "_view_module_version": "1.2.0",
      "_view_name": "LayoutView",
      "align_content": null,
      "align_items": null,
      "align_self": null,
      "border": null,
      "bottom": null,
      "display": null,
      "flex": null,
      "flex_flow": null,
      "grid_area": null,
      "grid_auto_columns": null,
      "grid_auto_flow": null,
      "grid_auto_rows": null,
      "grid_column": null,
      "grid_gap": null,
      "grid_row": null,
      "grid_template_areas": null,
      "grid_template_columns": null,
      "grid_template_rows": null,
      "height": null,
      "justify_content": null,
      "justify_items": null,
      "left": null,
      "margin": null,
      "max_height": null,
      "max_width": null,
      "min_height": null,
      "min_width": null,
      "object_fit": null,
      "object_position": null,
      "order": null,
      "overflow": null,
      "overflow_x": null,
      "overflow_y": null,
      "padding": null,
      "right": null,
      "top": null,
      "visibility": null,
      "width": null
     }
    },
    "14e20ddd683a41ac807e86d21233958c": {
     "model_module": "@jupyter-widgets/base",
     "model_module_version": "1.2.0",
     "model_name": "LayoutModel",
     "state": {
      "_model_module": "@jupyter-widgets/base",
      "_model_module_version": "1.2.0",
      "_model_name": "LayoutModel",
      "_view_count": null,
      "_view_module": "@jupyter-widgets/base",
      "_view_module_version": "1.2.0",
      "_view_name": "LayoutView",
      "align_content": null,
      "align_items": null,
      "align_self": null,
      "border": null,
      "bottom": null,
      "display": null,
      "flex": null,
      "flex_flow": null,
      "grid_area": null,
      "grid_auto_columns": null,
      "grid_auto_flow": null,
      "grid_auto_rows": null,
      "grid_column": null,
      "grid_gap": null,
      "grid_row": null,
      "grid_template_areas": null,
      "grid_template_columns": null,
      "grid_template_rows": null,
      "height": null,
      "justify_content": null,
      "justify_items": null,
      "left": null,
      "margin": null,
      "max_height": null,
      "max_width": null,
      "min_height": null,
      "min_width": null,
      "object_fit": null,
      "object_position": null,
      "order": null,
      "overflow": null,
      "overflow_x": null,
      "overflow_y": null,
      "padding": null,
      "right": null,
      "top": null,
      "visibility": null,
      "width": null
     }
    },
    "257862580509429db0a597daa1c509d5": {
     "model_module": "@jupyter-widgets/base",
     "model_module_version": "1.2.0",
     "model_name": "LayoutModel",
     "state": {
      "_model_module": "@jupyter-widgets/base",
      "_model_module_version": "1.2.0",
      "_model_name": "LayoutModel",
      "_view_count": null,
      "_view_module": "@jupyter-widgets/base",
      "_view_module_version": "1.2.0",
      "_view_name": "LayoutView",
      "align_content": null,
      "align_items": null,
      "align_self": null,
      "border": null,
      "bottom": null,
      "display": null,
      "flex": null,
      "flex_flow": null,
      "grid_area": null,
      "grid_auto_columns": null,
      "grid_auto_flow": null,
      "grid_auto_rows": null,
      "grid_column": null,
      "grid_gap": null,
      "grid_row": null,
      "grid_template_areas": null,
      "grid_template_columns": null,
      "grid_template_rows": null,
      "height": null,
      "justify_content": null,
      "justify_items": null,
      "left": null,
      "margin": null,
      "max_height": null,
      "max_width": null,
      "min_height": null,
      "min_width": null,
      "object_fit": null,
      "object_position": null,
      "order": null,
      "overflow": null,
      "overflow_x": null,
      "overflow_y": null,
      "padding": null,
      "right": null,
      "top": null,
      "visibility": null,
      "width": null
     }
    },
    "2b3df0119d8141e4b3056372078878c0": {
     "model_module": "@jupyter-widgets/controls",
     "model_module_version": "1.5.0",
     "model_name": "FloatProgressModel",
     "state": {
      "_dom_classes": [],
      "_model_module": "@jupyter-widgets/controls",
      "_model_module_version": "1.5.0",
      "_model_name": "FloatProgressModel",
      "_view_count": null,
      "_view_module": "@jupyter-widgets/controls",
      "_view_module_version": "1.5.0",
      "_view_name": "ProgressView",
      "bar_style": "success",
      "description": "",
      "description_tooltip": null,
      "layout": "IPY_MODEL_cf96061926634408a261ec9a6179310c",
      "max": 231508,
      "min": 0,
      "orientation": "horizontal",
      "style": "IPY_MODEL_75d3847c087248fe9aee44a5452333cd",
      "value": 231508
     }
    },
    "2e96ae2ef1fc41c087985fc44db1f03a": {
     "model_module": "@jupyter-widgets/controls",
     "model_module_version": "1.5.0",
     "model_name": "HBoxModel",
     "state": {
      "_dom_classes": [],
      "_model_module": "@jupyter-widgets/controls",
      "_model_module_version": "1.5.0",
      "_model_name": "HBoxModel",
      "_view_count": null,
      "_view_module": "@jupyter-widgets/controls",
      "_view_module_version": "1.5.0",
      "_view_name": "HBoxView",
      "box_style": "",
      "children": [
       "IPY_MODEL_51310bb0ae2b47ab936b913479d0ab79",
       "IPY_MODEL_2f5239aa309a4c42a6d169626b9f5606",
       "IPY_MODEL_5789692fe5e748eba6d779b8e1c096db"
      ],
      "layout": "IPY_MODEL_d446770c77104531b801feee3a0180df"
     }
    },
    "2f5239aa309a4c42a6d169626b9f5606": {
     "model_module": "@jupyter-widgets/controls",
     "model_module_version": "1.5.0",
     "model_name": "FloatProgressModel",
     "state": {
      "_dom_classes": [],
      "_model_module": "@jupyter-widgets/controls",
      "_model_module_version": "1.5.0",
      "_model_name": "FloatProgressModel",
      "_view_count": null,
      "_view_module": "@jupyter-widgets/controls",
      "_view_module_version": "1.5.0",
      "_view_name": "ProgressView",
      "bar_style": "success",
      "description": "",
      "description_tooltip": null,
      "layout": "IPY_MODEL_9b9499cbc8f941dbb338ed41d850d759",
      "max": 483,
      "min": 0,
      "orientation": "horizontal",
      "style": "IPY_MODEL_f4a86af5669b4fee947da12780c31f57",
      "value": 483
     }
    },
    "2f6c0dee16694cd794158530feaa7645": {
     "model_module": "@jupyter-widgets/base",
     "model_module_version": "1.2.0",
     "model_name": "LayoutModel",
     "state": {
      "_model_module": "@jupyter-widgets/base",
      "_model_module_version": "1.2.0",
      "_model_name": "LayoutModel",
      "_view_count": null,
      "_view_module": "@jupyter-widgets/base",
      "_view_module_version": "1.2.0",
      "_view_name": "LayoutView",
      "align_content": null,
      "align_items": null,
      "align_self": null,
      "border": null,
      "bottom": null,
      "display": null,
      "flex": null,
      "flex_flow": null,
      "grid_area": null,
      "grid_auto_columns": null,
      "grid_auto_flow": null,
      "grid_auto_rows": null,
      "grid_column": null,
      "grid_gap": null,
      "grid_row": null,
      "grid_template_areas": null,
      "grid_template_columns": null,
      "grid_template_rows": null,
      "height": null,
      "justify_content": null,
      "justify_items": null,
      "left": null,
      "margin": null,
      "max_height": null,
      "max_width": null,
      "min_height": null,
      "min_width": null,
      "object_fit": null,
      "object_position": null,
      "order": null,
      "overflow": null,
      "overflow_x": null,
      "overflow_y": null,
      "padding": null,
      "right": null,
      "top": null,
      "visibility": null,
      "width": null
     }
    },
    "38301cc877324982be7ad8949bb3cbbb": {
     "model_module": "@jupyter-widgets/controls",
     "model_module_version": "1.5.0",
     "model_name": "HTMLModel",
     "state": {
      "_dom_classes": [],
      "_model_module": "@jupyter-widgets/controls",
      "_model_module_version": "1.5.0",
      "_model_name": "HTMLModel",
      "_view_count": null,
      "_view_module": "@jupyter-widgets/controls",
      "_view_module_version": "1.5.0",
      "_view_name": "HTMLView",
      "description": "",
      "description_tooltip": null,
      "layout": "IPY_MODEL_a543b2148cc34d2b9c54fbe5d012e28a",
      "placeholder": "​",
      "style": "IPY_MODEL_883c7452c491455589f9182b78ca4d28",
      "value": " 268M/268M [00:01&lt;00:00, 252MB/s]"
     }
    },
    "3bc1be7acef54af0baefc6ce2bd71198": {
     "model_module": "@jupyter-widgets/base",
     "model_module_version": "1.2.0",
     "model_name": "LayoutModel",
     "state": {
      "_model_module": "@jupyter-widgets/base",
      "_model_module_version": "1.2.0",
      "_model_name": "LayoutModel",
      "_view_count": null,
      "_view_module": "@jupyter-widgets/base",
      "_view_module_version": "1.2.0",
      "_view_name": "LayoutView",
      "align_content": null,
      "align_items": null,
      "align_self": null,
      "border": null,
      "bottom": null,
      "display": null,
      "flex": null,
      "flex_flow": null,
      "grid_area": null,
      "grid_auto_columns": null,
      "grid_auto_flow": null,
      "grid_auto_rows": null,
      "grid_column": null,
      "grid_gap": null,
      "grid_row": null,
      "grid_template_areas": null,
      "grid_template_columns": null,
      "grid_template_rows": null,
      "height": null,
      "justify_content": null,
      "justify_items": null,
      "left": null,
      "margin": null,
      "max_height": null,
      "max_width": null,
      "min_height": null,
      "min_width": null,
      "object_fit": null,
      "object_position": null,
      "order": null,
      "overflow": null,
      "overflow_x": null,
      "overflow_y": null,
      "padding": null,
      "right": null,
      "top": null,
      "visibility": null,
      "width": null
     }
    },
    "41bf3f1452264fedaf4acc619d15aa56": {
     "model_module": "@jupyter-widgets/controls",
     "model_module_version": "1.5.0",
     "model_name": "ProgressStyleModel",
     "state": {
      "_model_module": "@jupyter-widgets/controls",
      "_model_module_version": "1.5.0",
      "_model_name": "ProgressStyleModel",
      "_view_count": null,
      "_view_module": "@jupyter-widgets/base",
      "_view_module_version": "1.2.0",
      "_view_name": "StyleView",
      "bar_color": null,
      "description_width": ""
     }
    },
    "4791f89c223b4ddc8cc1f26a981548ec": {
     "model_module": "@jupyter-widgets/controls",
     "model_module_version": "1.5.0",
     "model_name": "DescriptionStyleModel",
     "state": {
      "_model_module": "@jupyter-widgets/controls",
      "_model_module_version": "1.5.0",
      "_model_name": "DescriptionStyleModel",
      "_view_count": null,
      "_view_module": "@jupyter-widgets/base",
      "_view_module_version": "1.2.0",
      "_view_name": "StyleView",
      "description_width": ""
     }
    },
    "48cb8e36b85948f4ab4ea3058d7dd83c": {
     "model_module": "@jupyter-widgets/base",
     "model_module_version": "1.2.0",
     "model_name": "LayoutModel",
     "state": {
      "_model_module": "@jupyter-widgets/base",
      "_model_module_version": "1.2.0",
      "_model_name": "LayoutModel",
      "_view_count": null,
      "_view_module": "@jupyter-widgets/base",
      "_view_module_version": "1.2.0",
      "_view_name": "LayoutView",
      "align_content": null,
      "align_items": null,
      "align_self": null,
      "border": null,
      "bottom": null,
      "display": null,
      "flex": null,
      "flex_flow": null,
      "grid_area": null,
      "grid_auto_columns": null,
      "grid_auto_flow": null,
      "grid_auto_rows": null,
      "grid_column": null,
      "grid_gap": null,
      "grid_row": null,
      "grid_template_areas": null,
      "grid_template_columns": null,
      "grid_template_rows": null,
      "height": null,
      "justify_content": null,
      "justify_items": null,
      "left": null,
      "margin": null,
      "max_height": null,
      "max_width": null,
      "min_height": null,
      "min_width": null,
      "object_fit": null,
      "object_position": null,
      "order": null,
      "overflow": null,
      "overflow_x": null,
      "overflow_y": null,
      "padding": null,
      "right": null,
      "top": null,
      "visibility": null,
      "width": null
     }
    },
    "498d5115765141b8a25a1d8555c8f7cb": {
     "model_module": "@jupyter-widgets/base",
     "model_module_version": "1.2.0",
     "model_name": "LayoutModel",
     "state": {
      "_model_module": "@jupyter-widgets/base",
      "_model_module_version": "1.2.0",
      "_model_name": "LayoutModel",
      "_view_count": null,
      "_view_module": "@jupyter-widgets/base",
      "_view_module_version": "1.2.0",
      "_view_name": "LayoutView",
      "align_content": null,
      "align_items": null,
      "align_self": null,
      "border": null,
      "bottom": null,
      "display": null,
      "flex": null,
      "flex_flow": null,
      "grid_area": null,
      "grid_auto_columns": null,
      "grid_auto_flow": null,
      "grid_auto_rows": null,
      "grid_column": null,
      "grid_gap": null,
      "grid_row": null,
      "grid_template_areas": null,
      "grid_template_columns": null,
      "grid_template_rows": null,
      "height": null,
      "justify_content": null,
      "justify_items": null,
      "left": null,
      "margin": null,
      "max_height": null,
      "max_width": null,
      "min_height": null,
      "min_width": null,
      "object_fit": null,
      "object_position": null,
      "order": null,
      "overflow": null,
      "overflow_x": null,
      "overflow_y": null,
      "padding": null,
      "right": null,
      "top": null,
      "visibility": null,
      "width": null
     }
    },
    "4b09b712f06442a8920c416c4c9a2e6a": {
     "model_module": "@jupyter-widgets/controls",
     "model_module_version": "1.5.0",
     "model_name": "DescriptionStyleModel",
     "state": {
      "_model_module": "@jupyter-widgets/controls",
      "_model_module_version": "1.5.0",
      "_model_name": "DescriptionStyleModel",
      "_view_count": null,
      "_view_module": "@jupyter-widgets/base",
      "_view_module_version": "1.2.0",
      "_view_name": "StyleView",
      "description_width": ""
     }
    },
    "4f05f093f70d4f82958ea95943868ea2": {
     "model_module": "@jupyter-widgets/controls",
     "model_module_version": "1.5.0",
     "model_name": "HTMLModel",
     "state": {
      "_dom_classes": [],
      "_model_module": "@jupyter-widgets/controls",
      "_model_module_version": "1.5.0",
      "_model_name": "HTMLModel",
      "_view_count": null,
      "_view_module": "@jupyter-widgets/controls",
      "_view_module_version": "1.5.0",
      "_view_name": "HTMLView",
      "description": "",
      "description_tooltip": null,
      "layout": "IPY_MODEL_498d5115765141b8a25a1d8555c8f7cb",
      "placeholder": "​",
      "style": "IPY_MODEL_4b09b712f06442a8920c416c4c9a2e6a",
      "value": "model.safetensors: 100%"
     }
    },
    "51310bb0ae2b47ab936b913479d0ab79": {
     "model_module": "@jupyter-widgets/controls",
     "model_module_version": "1.5.0",
     "model_name": "HTMLModel",
     "state": {
      "_dom_classes": [],
      "_model_module": "@jupyter-widgets/controls",
      "_model_module_version": "1.5.0",
      "_model_name": "HTMLModel",
      "_view_count": null,
      "_view_module": "@jupyter-widgets/controls",
      "_view_module_version": "1.5.0",
      "_view_name": "HTMLView",
      "description": "",
      "description_tooltip": null,
      "layout": "IPY_MODEL_14e20ddd683a41ac807e86d21233958c",
      "placeholder": "​",
      "style": "IPY_MODEL_7ea2bde798bb4e61b2cb7707154767ba",
      "value": "config.json: 100%"
     }
    },
    "552808e00445482fa25dd65ff6195466": {
     "model_module": "@jupyter-widgets/controls",
     "model_module_version": "1.5.0",
     "model_name": "FloatProgressModel",
     "state": {
      "_dom_classes": [],
      "_model_module": "@jupyter-widgets/controls",
      "_model_module_version": "1.5.0",
      "_model_name": "FloatProgressModel",
      "_view_count": null,
      "_view_module": "@jupyter-widgets/controls",
      "_view_module_version": "1.5.0",
      "_view_name": "ProgressView",
      "bar_style": "success",
      "description": "",
      "description_tooltip": null,
      "layout": "IPY_MODEL_57d46d264e72446fa4729886ad7a88eb",
      "max": 48,
      "min": 0,
      "orientation": "horizontal",
      "style": "IPY_MODEL_bc11b20cb2a8495cac4277a6c926648f",
      "value": 48
     }
    },
    "5789692fe5e748eba6d779b8e1c096db": {
     "model_module": "@jupyter-widgets/controls",
     "model_module_version": "1.5.0",
     "model_name": "HTMLModel",
     "state": {
      "_dom_classes": [],
      "_model_module": "@jupyter-widgets/controls",
      "_model_module_version": "1.5.0",
      "_model_name": "HTMLModel",
      "_view_count": null,
      "_view_module": "@jupyter-widgets/controls",
      "_view_module_version": "1.5.0",
      "_view_name": "HTMLView",
      "description": "",
      "description_tooltip": null,
      "layout": "IPY_MODEL_0d73701e68764559bcba8a76cbd50ded",
      "placeholder": "​",
      "style": "IPY_MODEL_9b48d0f1174047648a6255f57f8fa611",
      "value": " 483/483 [00:00&lt;00:00, 57.7kB/s]"
     }
    },
    "57d46d264e72446fa4729886ad7a88eb": {
     "model_module": "@jupyter-widgets/base",
     "model_module_version": "1.2.0",
     "model_name": "LayoutModel",
     "state": {
      "_model_module": "@jupyter-widgets/base",
      "_model_module_version": "1.2.0",
      "_model_name": "LayoutModel",
      "_view_count": null,
      "_view_module": "@jupyter-widgets/base",
      "_view_module_version": "1.2.0",
      "_view_name": "LayoutView",
      "align_content": null,
      "align_items": null,
      "align_self": null,
      "border": null,
      "bottom": null,
      "display": null,
      "flex": null,
      "flex_flow": null,
      "grid_area": null,
      "grid_auto_columns": null,
      "grid_auto_flow": null,
      "grid_auto_rows": null,
      "grid_column": null,
      "grid_gap": null,
      "grid_row": null,
      "grid_template_areas": null,
      "grid_template_columns": null,
      "grid_template_rows": null,
      "height": null,
      "justify_content": null,
      "justify_items": null,
      "left": null,
      "margin": null,
      "max_height": null,
      "max_width": null,
      "min_height": null,
      "min_width": null,
      "object_fit": null,
      "object_position": null,
      "order": null,
      "overflow": null,
      "overflow_x": null,
      "overflow_y": null,
      "padding": null,
      "right": null,
      "top": null,
      "visibility": null,
      "width": null
     }
    },
    "5b21567ffe254d18be83e9d6f7b3daf8": {
     "model_module": "@jupyter-widgets/controls",
     "model_module_version": "1.5.0",
     "model_name": "HBoxModel",
     "state": {
      "_dom_classes": [],
      "_model_module": "@jupyter-widgets/controls",
      "_model_module_version": "1.5.0",
      "_model_name": "HBoxModel",
      "_view_count": null,
      "_view_module": "@jupyter-widgets/controls",
      "_view_module_version": "1.5.0",
      "_view_name": "HBoxView",
      "box_style": "",
      "children": [
       "IPY_MODEL_ba91cbd81a2644018e57f5f20579a801",
       "IPY_MODEL_2b3df0119d8141e4b3056372078878c0",
       "IPY_MODEL_c2142ccef0b2416daea74ea7f8fa427b"
      ],
      "layout": "IPY_MODEL_ac6243d0c50d4bfea68c046023b187d7"
     }
    },
    "641c615cc23e46a0989b7226eece3662": {
     "model_module": "@jupyter-widgets/base",
     "model_module_version": "1.2.0",
     "model_name": "LayoutModel",
     "state": {
      "_model_module": "@jupyter-widgets/base",
      "_model_module_version": "1.2.0",
      "_model_name": "LayoutModel",
      "_view_count": null,
      "_view_module": "@jupyter-widgets/base",
      "_view_module_version": "1.2.0",
      "_view_name": "LayoutView",
      "align_content": null,
      "align_items": null,
      "align_self": null,
      "border": null,
      "bottom": null,
      "display": null,
      "flex": null,
      "flex_flow": null,
      "grid_area": null,
      "grid_auto_columns": null,
      "grid_auto_flow": null,
      "grid_auto_rows": null,
      "grid_column": null,
      "grid_gap": null,
      "grid_row": null,
      "grid_template_areas": null,
      "grid_template_columns": null,
      "grid_template_rows": null,
      "height": null,
      "justify_content": null,
      "justify_items": null,
      "left": null,
      "margin": null,
      "max_height": null,
      "max_width": null,
      "min_height": null,
      "min_width": null,
      "object_fit": null,
      "object_position": null,
      "order": null,
      "overflow": null,
      "overflow_x": null,
      "overflow_y": null,
      "padding": null,
      "right": null,
      "top": null,
      "visibility": null,
      "width": null
     }
    },
    "6a909ffe347a4802b0a9fc06c4e2ac48": {
     "model_module": "@jupyter-widgets/controls",
     "model_module_version": "1.5.0",
     "model_name": "DescriptionStyleModel",
     "state": {
      "_model_module": "@jupyter-widgets/controls",
      "_model_module_version": "1.5.0",
      "_model_name": "DescriptionStyleModel",
      "_view_count": null,
      "_view_module": "@jupyter-widgets/base",
      "_view_module_version": "1.2.0",
      "_view_name": "StyleView",
      "description_width": ""
     }
    },
    "6af0fc9b6b38474aa0b1e4b4db82cb8b": {
     "model_module": "@jupyter-widgets/controls",
     "model_module_version": "1.5.0",
     "model_name": "DescriptionStyleModel",
     "state": {
      "_model_module": "@jupyter-widgets/controls",
      "_model_module_version": "1.5.0",
      "_model_name": "DescriptionStyleModel",
      "_view_count": null,
      "_view_module": "@jupyter-widgets/base",
      "_view_module_version": "1.2.0",
      "_view_name": "StyleView",
      "description_width": ""
     }
    },
    "6c4e42f38f03418c8f4edcf71aeb6d1c": {
     "model_module": "@jupyter-widgets/controls",
     "model_module_version": "1.5.0",
     "model_name": "HTMLModel",
     "state": {
      "_dom_classes": [],
      "_model_module": "@jupyter-widgets/controls",
      "_model_module_version": "1.5.0",
      "_model_name": "HTMLModel",
      "_view_count": null,
      "_view_module": "@jupyter-widgets/controls",
      "_view_module_version": "1.5.0",
      "_view_name": "HTMLView",
      "description": "",
      "description_tooltip": null,
      "layout": "IPY_MODEL_2f6c0dee16694cd794158530feaa7645",
      "placeholder": "​",
      "style": "IPY_MODEL_bf020a77ece94878ab91527a7cb5c3e7",
      "value": "tokenizer.json: 100%"
     }
    },
    "75d3847c087248fe9aee44a5452333cd": {
     "model_module": "@jupyter-widgets/controls",
     "model_module_version": "1.5.0",
     "model_name": "ProgressStyleModel",
     "state": {
      "_model_module": "@jupyter-widgets/controls",
      "_model_module_version": "1.5.0",
      "_model_name": "ProgressStyleModel",
      "_view_count": null,
      "_view_module": "@jupyter-widgets/base",
      "_view_module_version": "1.2.0",
      "_view_name": "StyleView",
      "bar_color": null,
      "description_width": ""
     }
    },
    "7ea2bde798bb4e61b2cb7707154767ba": {
     "model_module": "@jupyter-widgets/controls",
     "model_module_version": "1.5.0",
     "model_name": "DescriptionStyleModel",
     "state": {
      "_model_module": "@jupyter-widgets/controls",
      "_model_module_version": "1.5.0",
      "_model_name": "DescriptionStyleModel",
      "_view_count": null,
      "_view_module": "@jupyter-widgets/base",
      "_view_module_version": "1.2.0",
      "_view_name": "StyleView",
      "description_width": ""
     }
    },
    "883c7452c491455589f9182b78ca4d28": {
     "model_module": "@jupyter-widgets/controls",
     "model_module_version": "1.5.0",
     "model_name": "DescriptionStyleModel",
     "state": {
      "_model_module": "@jupyter-widgets/controls",
      "_model_module_version": "1.5.0",
      "_model_name": "DescriptionStyleModel",
      "_view_count": null,
      "_view_module": "@jupyter-widgets/base",
      "_view_module_version": "1.2.0",
      "_view_name": "StyleView",
      "description_width": ""
     }
    },
    "9506f5f3307c41d78def18a4e99f3d3f": {
     "model_module": "@jupyter-widgets/controls",
     "model_module_version": "1.5.0",
     "model_name": "DescriptionStyleModel",
     "state": {
      "_model_module": "@jupyter-widgets/controls",
      "_model_module_version": "1.5.0",
      "_model_name": "DescriptionStyleModel",
      "_view_count": null,
      "_view_module": "@jupyter-widgets/base",
      "_view_module_version": "1.2.0",
      "_view_name": "StyleView",
      "description_width": ""
     }
    },
    "9b1d131a8a924326a24a7779e37ab2c0": {
     "model_module": "@jupyter-widgets/controls",
     "model_module_version": "1.5.0",
     "model_name": "HTMLModel",
     "state": {
      "_dom_classes": [],
      "_model_module": "@jupyter-widgets/controls",
      "_model_module_version": "1.5.0",
      "_model_name": "HTMLModel",
      "_view_count": null,
      "_view_module": "@jupyter-widgets/controls",
      "_view_module_version": "1.5.0",
      "_view_name": "HTMLView",
      "description": "",
      "description_tooltip": null,
      "layout": "IPY_MODEL_c3059fd8ffac4bad89d43b113f06e215",
      "placeholder": "​",
      "style": "IPY_MODEL_4791f89c223b4ddc8cc1f26a981548ec",
      "value": "tokenizer_config.json: 100%"
     }
    },
    "9b48d0f1174047648a6255f57f8fa611": {
     "model_module": "@jupyter-widgets/controls",
     "model_module_version": "1.5.0",
     "model_name": "DescriptionStyleModel",
     "state": {
      "_model_module": "@jupyter-widgets/controls",
      "_model_module_version": "1.5.0",
      "_model_name": "DescriptionStyleModel",
      "_view_count": null,
      "_view_module": "@jupyter-widgets/base",
      "_view_module_version": "1.2.0",
      "_view_name": "StyleView",
      "description_width": ""
     }
    },
    "9b9499cbc8f941dbb338ed41d850d759": {
     "model_module": "@jupyter-widgets/base",
     "model_module_version": "1.2.0",
     "model_name": "LayoutModel",
     "state": {
      "_model_module": "@jupyter-widgets/base",
      "_model_module_version": "1.2.0",
      "_model_name": "LayoutModel",
      "_view_count": null,
      "_view_module": "@jupyter-widgets/base",
      "_view_module_version": "1.2.0",
      "_view_name": "LayoutView",
      "align_content": null,
      "align_items": null,
      "align_self": null,
      "border": null,
      "bottom": null,
      "display": null,
      "flex": null,
      "flex_flow": null,
      "grid_area": null,
      "grid_auto_columns": null,
      "grid_auto_flow": null,
      "grid_auto_rows": null,
      "grid_column": null,
      "grid_gap": null,
      "grid_row": null,
      "grid_template_areas": null,
      "grid_template_columns": null,
      "grid_template_rows": null,
      "height": null,
      "justify_content": null,
      "justify_items": null,
      "left": null,
      "margin": null,
      "max_height": null,
      "max_width": null,
      "min_height": null,
      "min_width": null,
      "object_fit": null,
      "object_position": null,
      "order": null,
      "overflow": null,
      "overflow_x": null,
      "overflow_y": null,
      "padding": null,
      "right": null,
      "top": null,
      "visibility": null,
      "width": null
     }
    },
    "a543b2148cc34d2b9c54fbe5d012e28a": {
     "model_module": "@jupyter-widgets/base",
     "model_module_version": "1.2.0",
     "model_name": "LayoutModel",
     "state": {
      "_model_module": "@jupyter-widgets/base",
      "_model_module_version": "1.2.0",
      "_model_name": "LayoutModel",
      "_view_count": null,
      "_view_module": "@jupyter-widgets/base",
      "_view_module_version": "1.2.0",
      "_view_name": "LayoutView",
      "align_content": null,
      "align_items": null,
      "align_self": null,
      "border": null,
      "bottom": null,
      "display": null,
      "flex": null,
      "flex_flow": null,
      "grid_area": null,
      "grid_auto_columns": null,
      "grid_auto_flow": null,
      "grid_auto_rows": null,
      "grid_column": null,
      "grid_gap": null,
      "grid_row": null,
      "grid_template_areas": null,
      "grid_template_columns": null,
      "grid_template_rows": null,
      "height": null,
      "justify_content": null,
      "justify_items": null,
      "left": null,
      "margin": null,
      "max_height": null,
      "max_width": null,
      "min_height": null,
      "min_width": null,
      "object_fit": null,
      "object_position": null,
      "order": null,
      "overflow": null,
      "overflow_x": null,
      "overflow_y": null,
      "padding": null,
      "right": null,
      "top": null,
      "visibility": null,
      "width": null
     }
    },
    "a8b4bc5064ca44e5b574d8c0eb815258": {
     "model_module": "@jupyter-widgets/controls",
     "model_module_version": "1.5.0",
     "model_name": "HBoxModel",
     "state": {
      "_dom_classes": [],
      "_model_module": "@jupyter-widgets/controls",
      "_model_module_version": "1.5.0",
      "_model_name": "HBoxModel",
      "_view_count": null,
      "_view_module": "@jupyter-widgets/controls",
      "_view_module_version": "1.5.0",
      "_view_name": "HBoxView",
      "box_style": "",
      "children": [
       "IPY_MODEL_9b1d131a8a924326a24a7779e37ab2c0",
       "IPY_MODEL_552808e00445482fa25dd65ff6195466",
       "IPY_MODEL_d91cef8296cb40028c1d65d4287dbe48"
      ],
      "layout": "IPY_MODEL_48cb8e36b85948f4ab4ea3058d7dd83c"
     }
    },
    "ac6243d0c50d4bfea68c046023b187d7": {
     "model_module": "@jupyter-widgets/base",
     "model_module_version": "1.2.0",
     "model_name": "LayoutModel",
     "state": {
      "_model_module": "@jupyter-widgets/base",
      "_model_module_version": "1.2.0",
      "_model_name": "LayoutModel",
      "_view_count": null,
      "_view_module": "@jupyter-widgets/base",
      "_view_module_version": "1.2.0",
      "_view_name": "LayoutView",
      "align_content": null,
      "align_items": null,
      "align_self": null,
      "border": null,
      "bottom": null,
      "display": null,
      "flex": null,
      "flex_flow": null,
      "grid_area": null,
      "grid_auto_columns": null,
      "grid_auto_flow": null,
      "grid_auto_rows": null,
      "grid_column": null,
      "grid_gap": null,
      "grid_row": null,
      "grid_template_areas": null,
      "grid_template_columns": null,
      "grid_template_rows": null,
      "height": null,
      "justify_content": null,
      "justify_items": null,
      "left": null,
      "margin": null,
      "max_height": null,
      "max_width": null,
      "min_height": null,
      "min_width": null,
      "object_fit": null,
      "object_position": null,
      "order": null,
      "overflow": null,
      "overflow_x": null,
      "overflow_y": null,
      "padding": null,
      "right": null,
      "top": null,
      "visibility": null,
      "width": null
     }
    },
    "b2c66d5a942b439d959cc7ee86fafd14": {
     "model_module": "@jupyter-widgets/controls",
     "model_module_version": "1.5.0",
     "model_name": "HTMLModel",
     "state": {
      "_dom_classes": [],
      "_model_module": "@jupyter-widgets/controls",
      "_model_module_version": "1.5.0",
      "_model_name": "HTMLModel",
      "_view_count": null,
      "_view_module": "@jupyter-widgets/controls",
      "_view_module_version": "1.5.0",
      "_view_name": "HTMLView",
      "description": "",
      "description_tooltip": null,
      "layout": "IPY_MODEL_f00460674c014065bd851c335f7affdf",
      "placeholder": "​",
      "style": "IPY_MODEL_9506f5f3307c41d78def18a4e99f3d3f",
      "value": " 466k/466k [00:00&lt;00:00, 8.11MB/s]"
     }
    },
    "ba91cbd81a2644018e57f5f20579a801": {
     "model_module": "@jupyter-widgets/controls",
     "model_module_version": "1.5.0",
     "model_name": "HTMLModel",
     "state": {
      "_dom_classes": [],
      "_model_module": "@jupyter-widgets/controls",
      "_model_module_version": "1.5.0",
      "_model_name": "HTMLModel",
      "_view_count": null,
      "_view_module": "@jupyter-widgets/controls",
      "_view_module_version": "1.5.0",
      "_view_name": "HTMLView",
      "description": "",
      "description_tooltip": null,
      "layout": "IPY_MODEL_0f001922f43945aa83206f58ecd88f61",
      "placeholder": "​",
      "style": "IPY_MODEL_d7829b14f1ae4713b259ec0d65125ca6",
      "value": "vocab.txt: 100%"
     }
    },
    "bc11b20cb2a8495cac4277a6c926648f": {
     "model_module": "@jupyter-widgets/controls",
     "model_module_version": "1.5.0",
     "model_name": "ProgressStyleModel",
     "state": {
      "_model_module": "@jupyter-widgets/controls",
      "_model_module_version": "1.5.0",
      "_model_name": "ProgressStyleModel",
      "_view_count": null,
      "_view_module": "@jupyter-widgets/base",
      "_view_module_version": "1.2.0",
      "_view_name": "StyleView",
      "bar_color": null,
      "description_width": ""
     }
    },
    "bf020a77ece94878ab91527a7cb5c3e7": {
     "model_module": "@jupyter-widgets/controls",
     "model_module_version": "1.5.0",
     "model_name": "DescriptionStyleModel",
     "state": {
      "_model_module": "@jupyter-widgets/controls",
      "_model_module_version": "1.5.0",
      "_model_name": "DescriptionStyleModel",
      "_view_count": null,
      "_view_module": "@jupyter-widgets/base",
      "_view_module_version": "1.2.0",
      "_view_name": "StyleView",
      "description_width": ""
     }
    },
    "c2142ccef0b2416daea74ea7f8fa427b": {
     "model_module": "@jupyter-widgets/controls",
     "model_module_version": "1.5.0",
     "model_name": "HTMLModel",
     "state": {
      "_dom_classes": [],
      "_model_module": "@jupyter-widgets/controls",
      "_model_module_version": "1.5.0",
      "_model_name": "HTMLModel",
      "_view_count": null,
      "_view_module": "@jupyter-widgets/controls",
      "_view_module_version": "1.5.0",
      "_view_name": "HTMLView",
      "description": "",
      "description_tooltip": null,
      "layout": "IPY_MODEL_f38aea8065a248a39b267e1407a1e1dc",
      "placeholder": "​",
      "style": "IPY_MODEL_6af0fc9b6b38474aa0b1e4b4db82cb8b",
      "value": " 232k/232k [00:00&lt;00:00, 1.50MB/s]"
     }
    },
    "c3059fd8ffac4bad89d43b113f06e215": {
     "model_module": "@jupyter-widgets/base",
     "model_module_version": "1.2.0",
     "model_name": "LayoutModel",
     "state": {
      "_model_module": "@jupyter-widgets/base",
      "_model_module_version": "1.2.0",
      "_model_name": "LayoutModel",
      "_view_count": null,
      "_view_module": "@jupyter-widgets/base",
      "_view_module_version": "1.2.0",
      "_view_name": "LayoutView",
      "align_content": null,
      "align_items": null,
      "align_self": null,
      "border": null,
      "bottom": null,
      "display": null,
      "flex": null,
      "flex_flow": null,
      "grid_area": null,
      "grid_auto_columns": null,
      "grid_auto_flow": null,
      "grid_auto_rows": null,
      "grid_column": null,
      "grid_gap": null,
      "grid_row": null,
      "grid_template_areas": null,
      "grid_template_columns": null,
      "grid_template_rows": null,
      "height": null,
      "justify_content": null,
      "justify_items": null,
      "left": null,
      "margin": null,
      "max_height": null,
      "max_width": null,
      "min_height": null,
      "min_width": null,
      "object_fit": null,
      "object_position": null,
      "order": null,
      "overflow": null,
      "overflow_x": null,
      "overflow_y": null,
      "padding": null,
      "right": null,
      "top": null,
      "visibility": null,
      "width": null
     }
    },
    "cc6de4e7c0d046f8b562968e859a5386": {
     "model_module": "@jupyter-widgets/controls",
     "model_module_version": "1.5.0",
     "model_name": "FloatProgressModel",
     "state": {
      "_dom_classes": [],
      "_model_module": "@jupyter-widgets/controls",
      "_model_module_version": "1.5.0",
      "_model_name": "FloatProgressModel",
      "_view_count": null,
      "_view_module": "@jupyter-widgets/controls",
      "_view_module_version": "1.5.0",
      "_view_name": "ProgressView",
      "bar_style": "success",
      "description": "",
      "description_tooltip": null,
      "layout": "IPY_MODEL_257862580509429db0a597daa1c509d5",
      "max": 466062,
      "min": 0,
      "orientation": "horizontal",
      "style": "IPY_MODEL_41bf3f1452264fedaf4acc619d15aa56",
      "value": 466062
     }
    },
    "cf96061926634408a261ec9a6179310c": {
     "model_module": "@jupyter-widgets/base",
     "model_module_version": "1.2.0",
     "model_name": "LayoutModel",
     "state": {
      "_model_module": "@jupyter-widgets/base",
      "_model_module_version": "1.2.0",
      "_model_name": "LayoutModel",
      "_view_count": null,
      "_view_module": "@jupyter-widgets/base",
      "_view_module_version": "1.2.0",
      "_view_name": "LayoutView",
      "align_content": null,
      "align_items": null,
      "align_self": null,
      "border": null,
      "bottom": null,
      "display": null,
      "flex": null,
      "flex_flow": null,
      "grid_area": null,
      "grid_auto_columns": null,
      "grid_auto_flow": null,
      "grid_auto_rows": null,
      "grid_column": null,
      "grid_gap": null,
      "grid_row": null,
      "grid_template_areas": null,
      "grid_template_columns": null,
      "grid_template_rows": null,
      "height": null,
      "justify_content": null,
      "justify_items": null,
      "left": null,
      "margin": null,
      "max_height": null,
      "max_width": null,
      "min_height": null,
      "min_width": null,
      "object_fit": null,
      "object_position": null,
      "order": null,
      "overflow": null,
      "overflow_x": null,
      "overflow_y": null,
      "padding": null,
      "right": null,
      "top": null,
      "visibility": null,
      "width": null
     }
    },
    "d446770c77104531b801feee3a0180df": {
     "model_module": "@jupyter-widgets/base",
     "model_module_version": "1.2.0",
     "model_name": "LayoutModel",
     "state": {
      "_model_module": "@jupyter-widgets/base",
      "_model_module_version": "1.2.0",
      "_model_name": "LayoutModel",
      "_view_count": null,
      "_view_module": "@jupyter-widgets/base",
      "_view_module_version": "1.2.0",
      "_view_name": "LayoutView",
      "align_content": null,
      "align_items": null,
      "align_self": null,
      "border": null,
      "bottom": null,
      "display": null,
      "flex": null,
      "flex_flow": null,
      "grid_area": null,
      "grid_auto_columns": null,
      "grid_auto_flow": null,
      "grid_auto_rows": null,
      "grid_column": null,
      "grid_gap": null,
      "grid_row": null,
      "grid_template_areas": null,
      "grid_template_columns": null,
      "grid_template_rows": null,
      "height": null,
      "justify_content": null,
      "justify_items": null,
      "left": null,
      "margin": null,
      "max_height": null,
      "max_width": null,
      "min_height": null,
      "min_width": null,
      "object_fit": null,
      "object_position": null,
      "order": null,
      "overflow": null,
      "overflow_x": null,
      "overflow_y": null,
      "padding": null,
      "right": null,
      "top": null,
      "visibility": null,
      "width": null
     }
    },
    "d7829b14f1ae4713b259ec0d65125ca6": {
     "model_module": "@jupyter-widgets/controls",
     "model_module_version": "1.5.0",
     "model_name": "DescriptionStyleModel",
     "state": {
      "_model_module": "@jupyter-widgets/controls",
      "_model_module_version": "1.5.0",
      "_model_name": "DescriptionStyleModel",
      "_view_count": null,
      "_view_module": "@jupyter-widgets/base",
      "_view_module_version": "1.2.0",
      "_view_name": "StyleView",
      "description_width": ""
     }
    },
    "d840043e798e4b6584413a175b39b104": {
     "model_module": "@jupyter-widgets/controls",
     "model_module_version": "1.5.0",
     "model_name": "HBoxModel",
     "state": {
      "_dom_classes": [],
      "_model_module": "@jupyter-widgets/controls",
      "_model_module_version": "1.5.0",
      "_model_name": "HBoxModel",
      "_view_count": null,
      "_view_module": "@jupyter-widgets/controls",
      "_view_module_version": "1.5.0",
      "_view_name": "HBoxView",
      "box_style": "",
      "children": [
       "IPY_MODEL_6c4e42f38f03418c8f4edcf71aeb6d1c",
       "IPY_MODEL_cc6de4e7c0d046f8b562968e859a5386",
       "IPY_MODEL_b2c66d5a942b439d959cc7ee86fafd14"
      ],
      "layout": "IPY_MODEL_3bc1be7acef54af0baefc6ce2bd71198"
     }
    },
    "d91cef8296cb40028c1d65d4287dbe48": {
     "model_module": "@jupyter-widgets/controls",
     "model_module_version": "1.5.0",
     "model_name": "HTMLModel",
     "state": {
      "_dom_classes": [],
      "_model_module": "@jupyter-widgets/controls",
      "_model_module_version": "1.5.0",
      "_model_name": "HTMLModel",
      "_view_count": null,
      "_view_module": "@jupyter-widgets/controls",
      "_view_module_version": "1.5.0",
      "_view_name": "HTMLView",
      "description": "",
      "description_tooltip": null,
      "layout": "IPY_MODEL_db54ed068fcf464ebcf87b70fe1fe4d6",
      "placeholder": "​",
      "style": "IPY_MODEL_6a909ffe347a4802b0a9fc06c4e2ac48",
      "value": " 48.0/48.0 [00:00&lt;00:00, 5.46kB/s]"
     }
    },
    "db54ed068fcf464ebcf87b70fe1fe4d6": {
     "model_module": "@jupyter-widgets/base",
     "model_module_version": "1.2.0",
     "model_name": "LayoutModel",
     "state": {
      "_model_module": "@jupyter-widgets/base",
      "_model_module_version": "1.2.0",
      "_model_name": "LayoutModel",
      "_view_count": null,
      "_view_module": "@jupyter-widgets/base",
      "_view_module_version": "1.2.0",
      "_view_name": "LayoutView",
      "align_content": null,
      "align_items": null,
      "align_self": null,
      "border": null,
      "bottom": null,
      "display": null,
      "flex": null,
      "flex_flow": null,
      "grid_area": null,
      "grid_auto_columns": null,
      "grid_auto_flow": null,
      "grid_auto_rows": null,
      "grid_column": null,
      "grid_gap": null,
      "grid_row": null,
      "grid_template_areas": null,
      "grid_template_columns": null,
      "grid_template_rows": null,
      "height": null,
      "justify_content": null,
      "justify_items": null,
      "left": null,
      "margin": null,
      "max_height": null,
      "max_width": null,
      "min_height": null,
      "min_width": null,
      "object_fit": null,
      "object_position": null,
      "order": null,
      "overflow": null,
      "overflow_x": null,
      "overflow_y": null,
      "padding": null,
      "right": null,
      "top": null,
      "visibility": null,
      "width": null
     }
    },
    "e9092286bd814786b36f10ae258cb21e": {
     "model_module": "@jupyter-widgets/controls",
     "model_module_version": "1.5.0",
     "model_name": "HBoxModel",
     "state": {
      "_dom_classes": [],
      "_model_module": "@jupyter-widgets/controls",
      "_model_module_version": "1.5.0",
      "_model_name": "HBoxModel",
      "_view_count": null,
      "_view_module": "@jupyter-widgets/controls",
      "_view_module_version": "1.5.0",
      "_view_name": "HBoxView",
      "box_style": "",
      "children": [
       "IPY_MODEL_4f05f093f70d4f82958ea95943868ea2",
       "IPY_MODEL_03e784427660462eba19a57b98183b3b",
       "IPY_MODEL_38301cc877324982be7ad8949bb3cbbb"
      ],
      "layout": "IPY_MODEL_083c6078f1ea4852a7591308040982d0"
     }
    },
    "ee7a9c035a9142178b9c2a16bdf29110": {
     "model_module": "@jupyter-widgets/controls",
     "model_module_version": "1.5.0",
     "model_name": "ProgressStyleModel",
     "state": {
      "_model_module": "@jupyter-widgets/controls",
      "_model_module_version": "1.5.0",
      "_model_name": "ProgressStyleModel",
      "_view_count": null,
      "_view_module": "@jupyter-widgets/base",
      "_view_module_version": "1.2.0",
      "_view_name": "StyleView",
      "bar_color": null,
      "description_width": ""
     }
    },
    "f00460674c014065bd851c335f7affdf": {
     "model_module": "@jupyter-widgets/base",
     "model_module_version": "1.2.0",
     "model_name": "LayoutModel",
     "state": {
      "_model_module": "@jupyter-widgets/base",
      "_model_module_version": "1.2.0",
      "_model_name": "LayoutModel",
      "_view_count": null,
      "_view_module": "@jupyter-widgets/base",
      "_view_module_version": "1.2.0",
      "_view_name": "LayoutView",
      "align_content": null,
      "align_items": null,
      "align_self": null,
      "border": null,
      "bottom": null,
      "display": null,
      "flex": null,
      "flex_flow": null,
      "grid_area": null,
      "grid_auto_columns": null,
      "grid_auto_flow": null,
      "grid_auto_rows": null,
      "grid_column": null,
      "grid_gap": null,
      "grid_row": null,
      "grid_template_areas": null,
      "grid_template_columns": null,
      "grid_template_rows": null,
      "height": null,
      "justify_content": null,
      "justify_items": null,
      "left": null,
      "margin": null,
      "max_height": null,
      "max_width": null,
      "min_height": null,
      "min_width": null,
      "object_fit": null,
      "object_position": null,
      "order": null,
      "overflow": null,
      "overflow_x": null,
      "overflow_y": null,
      "padding": null,
      "right": null,
      "top": null,
      "visibility": null,
      "width": null
     }
    },
    "f38aea8065a248a39b267e1407a1e1dc": {
     "model_module": "@jupyter-widgets/base",
     "model_module_version": "1.2.0",
     "model_name": "LayoutModel",
     "state": {
      "_model_module": "@jupyter-widgets/base",
      "_model_module_version": "1.2.0",
      "_model_name": "LayoutModel",
      "_view_count": null,
      "_view_module": "@jupyter-widgets/base",
      "_view_module_version": "1.2.0",
      "_view_name": "LayoutView",
      "align_content": null,
      "align_items": null,
      "align_self": null,
      "border": null,
      "bottom": null,
      "display": null,
      "flex": null,
      "flex_flow": null,
      "grid_area": null,
      "grid_auto_columns": null,
      "grid_auto_flow": null,
      "grid_auto_rows": null,
      "grid_column": null,
      "grid_gap": null,
      "grid_row": null,
      "grid_template_areas": null,
      "grid_template_columns": null,
      "grid_template_rows": null,
      "height": null,
      "justify_content": null,
      "justify_items": null,
      "left": null,
      "margin": null,
      "max_height": null,
      "max_width": null,
      "min_height": null,
      "min_width": null,
      "object_fit": null,
      "object_position": null,
      "order": null,
      "overflow": null,
      "overflow_x": null,
      "overflow_y": null,
      "padding": null,
      "right": null,
      "top": null,
      "visibility": null,
      "width": null
     }
    },
    "f4a86af5669b4fee947da12780c31f57": {
     "model_module": "@jupyter-widgets/controls",
     "model_module_version": "1.5.0",
     "model_name": "ProgressStyleModel",
     "state": {
      "_model_module": "@jupyter-widgets/controls",
      "_model_module_version": "1.5.0",
      "_model_name": "ProgressStyleModel",
      "_view_count": null,
      "_view_module": "@jupyter-widgets/base",
      "_view_module_version": "1.2.0",
      "_view_name": "StyleView",
      "bar_color": null,
      "description_width": ""
     }
    }
   }
  }
 },
 "nbformat": 4,
 "nbformat_minor": 5
}
