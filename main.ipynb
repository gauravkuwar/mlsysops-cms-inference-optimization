{
  "cells": [
    {
      "cell_type": "markdown",
      "id": "d3dd957d",
      "metadata": {
        "vscode": {
          "languageId": "shellscript"
        },
        "id": "d3dd957d"
      },
      "source": [
        "### Inference Optimizations"
      ]
    },
    {
      "cell_type": "code",
      "source": [],
      "metadata": {
        "id": "68nz89tK6Kmo"
      },
      "id": "68nz89tK6Kmo",
      "execution_count": null,
      "outputs": []
    }
  ],
  "metadata": {
    "language_info": {
      "name": "python"
    },
    "colab": {
      "provenance": []
    }
  },
  "nbformat": 4,
  "nbformat_minor": 5
}